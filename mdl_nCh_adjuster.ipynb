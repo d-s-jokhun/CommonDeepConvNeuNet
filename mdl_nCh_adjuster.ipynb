{
 "cells": [
  {
   "cell_type": "code",
   "execution_count": 2,
   "metadata": {},
   "outputs": [],
   "source": [
    "import tensorflow as tf\n",
    "import Lambda_functions"
   ]
  },
  {
   "cell_type": "code",
   "execution_count": 3,
   "metadata": {},
   "outputs": [],
   "source": [
    "def mdl_nCh_adjuster (NumOfInputCh=1, NumOfOutputCh=3, InputImgSize=None, OutputImgSize=None):\n",
    "    \n",
    "    assert (type(InputImgSize)!=type(None) and InputImgSize!=[] and InputImgSize!=()), 'InputImgSize has to be a pair or values denoting the height and width of the input!'\n",
    "    \n",
    "    if OutputImgSize==[] or OutputImgSize==() or type(OutputImgSize)==type(None):\n",
    "        OutputImgSize=InputImgSize\n",
    "        \n",
    "        \n",
    "    In = tf.keras.Input(shape=(InputImgSize[0], InputImgSize[1], NumOfInputCh), name=\"Input\")\n",
    "\n",
    "    x = tf.keras.layers.Lambda(\n",
    "        lambda image: tf.image.resize_with_pad(\n",
    "            image, target_height=OutputImgSize[0], target_width=OutputImgSize[1], \n",
    "            method=tf.image.ResizeMethod.BILINEAR, antialias=True), name=\"Resizing\")(In)\n",
    "    \n",
    "    x = tf.keras.layers.Conv2D(\n",
    "        filters=NumOfOutputCh, kernel_size=1, strides=(1, 1), padding=\"same\",data_format=None, \n",
    "        activation=None, use_bias=False, kernel_initializer=\"glorot_uniform\", bias_initializer=\"zeros\",\n",
    "        kernel_regularizer=None, bias_regularizer=None, activity_regularizer=None, \n",
    "        kernel_constraint=None, bias_constraint=None, name=\"SinglePixConv\")(x) \n",
    "    \n",
    "    Out=tf.keras.layers.Lambda(\n",
    "        Lambda_functions.Channel_GrayScale, name='Ch_GrayScale')(x)\n",
    "    \n",
    "    mdl_nCh_adjuster = tf.keras.Model(inputs=In, outputs=Out, name=\"nCh_adjuster\")\n",
    "    \n",
    "    return mdl_nCh_adjuster"
   ]
  }
 ],
 "metadata": {
  "kernelspec": {
   "display_name": "Python 3",
   "language": "python",
   "name": "python3"
  },
  "language_info": {
   "codemirror_mode": {
    "name": "ipython",
    "version": 3
   },
   "file_extension": ".py",
   "mimetype": "text/x-python",
   "name": "python",
   "nbconvert_exporter": "python",
   "pygments_lexer": "ipython3",
   "version": "3.7.7"
  }
 },
 "nbformat": 4,
 "nbformat_minor": 4
}
