{
 "cells": [
  {
   "cell_type": "code",
   "execution_count": 2,
   "metadata": {},
   "outputs": [],
   "source": [
    "import numpy as np\n",
    "import cv2\n",
    "import math"
   ]
  },
  {
   "cell_type": "code",
   "execution_count": 3,
   "metadata": {},
   "outputs": [],
   "source": [
    "\n",
    "def ImportImage (path, ScaleFactor=1, ImgSize=0):\n",
    "       \n",
    "    img = cv2.imread(path, cv2.IMREAD_UNCHANGED).astype(np.float32)\n",
    "        \n",
    "    W = math.floor(img.shape[1] * ScaleFactor)\n",
    "    H = math.floor(img.shape[0] * ScaleFactor)\n",
    "    \n",
    "    if ImgSize>0 and (W>ImgSize or H>ImgSize):\n",
    "        return\n",
    "    \n",
    "    img = cv2.resize(img, (W,H))\n",
    "    img = np.divide(img, np.amax(img))\n",
    "\n",
    "    \n",
    "    width_to_pad=ImgSize-img.shape[1]\n",
    "    height_to_pad=ImgSize-img.shape[0]\n",
    "    \n",
    "    width_start, width_end, height_start, height_end = (0,0,0,0)\n",
    "    \n",
    "    if width_to_pad>0:\n",
    "        width_start = width_to_pad//2\n",
    "        width_end = width_to_pad - width_start\n",
    "        \n",
    "    if height_to_pad>0:\n",
    "        height_start = height_to_pad//2\n",
    "        height_end = height_to_pad - height_start\n",
    "        \n",
    "    if len(img.shape) == 2:\n",
    "        img = np.pad(img,((height_start,height_end),(width_start,width_end)))\n",
    "    elif len(img.shape) == 3:\n",
    "        img = np.pad(img,((height_start,height_end),(width_start,width_end),(0,0)))\n",
    "    \n",
    "    return img\n"
   ]
  },
  {
   "cell_type": "code",
   "execution_count": 41,
   "metadata": {},
   "outputs": [],
   "source": [
    "\n",
    "def DataPartition(FullSet, Partition=[0.6,0.2,0.2], RanSeed=None):\n",
    "    assert np.sum(Partition)<=1\n",
    "    np.random.seed(RanSeed)\n",
    "    l = len(FullSet)\n",
    "    new_order = np.random.choice(FullSet, size = l, replace = False)\n",
    "\n",
    "    Tr_MaxIdx = np.ceil(l*Partition[0]).astype(np.int)\n",
    "    Dev_MaxIdx = np.ceil(l*(Partition[0]+Partition[1])).astype(np.int)\n",
    "    Ts_MaxIdx = np.ceil(l*(Partition[0]+Partition[1]+Partition[2])).astype(np.int)\n",
    "\n",
    "    Tr_Set = new_order[0:Tr_MaxIdx]\n",
    "    Dev_Set = new_order[Tr_MaxIdx:Dev_MaxIdx]\n",
    "    Ts_Set = new_order[Dev_MaxIdx:Ts_MaxIdx]\n",
    "    \n",
    "    return Tr_Set, Dev_Set, Ts_Set\n"
   ]
  },
  {
   "cell_type": "code",
   "execution_count": null,
   "metadata": {},
   "outputs": [],
   "source": []
  },
  {
   "cell_type": "code",
   "execution_count": null,
   "metadata": {},
   "outputs": [],
   "source": []
  },
  {
   "cell_type": "code",
   "execution_count": null,
   "metadata": {},
   "outputs": [],
   "source": []
  }
 ],
 "metadata": {
  "kernelspec": {
   "display_name": "Python 3",
   "language": "python",
   "name": "python3"
  },
  "language_info": {
   "codemirror_mode": {
    "name": "ipython",
    "version": 3
   },
   "file_extension": ".py",
   "mimetype": "text/x-python",
   "name": "python",
   "nbconvert_exporter": "python",
   "pygments_lexer": "ipython3",
   "version": "3.7.1"
  }
 },
 "nbformat": 4,
 "nbformat_minor": 4
}
