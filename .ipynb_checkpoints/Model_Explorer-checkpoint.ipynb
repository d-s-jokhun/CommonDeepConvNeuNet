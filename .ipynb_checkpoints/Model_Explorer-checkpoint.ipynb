{
 "cells": [
  {
   "cell_type": "code",
   "execution_count": 1,
   "metadata": {},
   "outputs": [],
   "source": [
    "from DataPartition import DataPartition\n",
    "from im_import import Import_GrayImg\n",
    "import matplotlib\n",
    "import matplotlib.pyplot as plt\n",
    "import time\n",
    "import multiprocessing as mp\n",
    "import glob\n",
    "import numpy as np\n",
    "import tensorflow as tf\n",
    "from tensorflow.keras.preprocessing.image import ImageDataGenerator\n",
    "import operator\n",
    "from sklearn.preprocessing import LabelEncoder\n",
    "import time\n",
    "from mdl_nCh_adjuster import mdl_nCh_adjuster\n",
    "import os\n",
    "import sys\n",
    "from RegularizeModel import RegularizeModel\n",
    "from SaveModelDescript import SaveModelDescript\n",
    "from ModelEditor import ModelEditor\n",
    "from get_CompileParams import get_CompileParams\n",
    "\n",
    "# os.environ[\"CUDA_DEVICE_ORDER\"]=\"PCI_BUS_ID\"\n",
    "# os.environ[\"CUDA_VISIBLE_DEVICES\"]=\"3\""
   ]
  },
  {
   "cell_type": "markdown",
   "metadata": {},
   "source": [
    "# Input Data"
   ]
  },
  {
   "cell_type": "markdown",
   "metadata": {},
   "source": [
    "#### Defining the input X and Y data"
   ]
  },
  {
   "cell_type": "code",
   "execution_count": 2,
   "metadata": {},
   "outputs": [
    {
     "name": "stdout",
     "output_type": "stream",
     "text": [
      "Classes available :\n",
      " ['0_DMSO_Complete', 'DMSO', 'caffeine', 'chlorphenamine', 'estradiol', 'paracetamol']\n"
     ]
    }
   ],
   "source": [
    "# MasterPath = os.path.abspath(\"/gpfs0/home/jokhun/\")\n",
    "MasterPath = os.path.abspath('//fs9.nus.edu.sg/bie/MBELab/jokhun/Pro 1/U2OS small mol screening')\n",
    "\n",
    "Segmented_MasterFolder = 'Segmented_SmallMol'\n",
    "\n",
    "Classes = sorted([Class for Class in os.listdir(os.path.join(MasterPath,Segmented_MasterFolder)) \n",
    "           if os.path.isdir(os.path.join(MasterPath,Segmented_MasterFolder,Class))])\n",
    "print('Classes available :\\n',Classes)"
   ]
  },
  {
   "cell_type": "markdown",
   "metadata": {},
   "source": [
    "#### Use the following cell to select specific classes rather than all of them"
   ]
  },
  {
   "cell_type": "code",
   "execution_count": 3,
   "metadata": {},
   "outputs": [
    {
     "name": "stdout",
     "output_type": "stream",
     "text": [
      "Classes selected :\n",
      " ['DMSO', 'estradiol']\n",
      "No. of Images available =  7982\n",
      "DMSO  :  6000\n",
      "estradiol  :  1982\n"
     ]
    }
   ],
   "source": [
    "Select_Classes = True # Set to False in order to select all available classes\n",
    "selection = [1,4] # List of classes to be selected. Only used if Select_Classes is True\n",
    "\n",
    "if Select_Classes:\n",
    "    Selected_Classes = list(operator.itemgetter(*selection)(Classes))\n",
    "else:\n",
    "    Selected_Classes = Classes\n",
    "\n",
    "ClassPaths={}\n",
    "for Class in Selected_Classes:\n",
    "    ClassPaths[Class]=sorted(glob.glob(os.path.join(\n",
    "        MasterPath,Segmented_MasterFolder,Class,f\"*_{Class}.tif\"\n",
    "    )))\n",
    "\n",
    "print('Classes selected :\\n',Selected_Classes)\n",
    "print('No. of Images available = ', np.sum([len(ClassPaths[Class]) for Class in ClassPaths]))\n",
    "for Class in ClassPaths: print (Class,' : ',len(ClassPaths[Class]) )"
   ]
  },
  {
   "cell_type": "code",
   "execution_count": 4,
   "metadata": {},
   "outputs": [
    {
     "name": "stdout",
     "output_type": "stream",
     "text": [
      "No. of Paths selected =  256\n",
      "DMSO  :  128\n",
      "estradiol  :  128\n"
     ]
    }
   ],
   "source": [
    "# Using the smallest dataset to determine the number of images to import from each class\n",
    "MinDatasetSizes=128#np.amin([len(items[1]) for items in ClassPaths.items()])\n",
    "np.random.seed(0)\n",
    "\n",
    "for Class in ClassPaths.keys():\n",
    "    ClassPaths[Class]=sorted(np.random.choice(ClassPaths[Class], \n",
    "                                              size = MinDatasetSizes, replace = False))\n",
    "XPaths = []\n",
    "for Class in ClassPaths.keys():\n",
    "    XPaths.extend(ClassPaths[Class])\n",
    "\n",
    "print('No. of Paths selected = ', len(XPaths))\n",
    "for Class in ClassPaths: print (Class,' : ',len(ClassPaths[Class]))"
   ]
  },
  {
   "cell_type": "markdown",
   "metadata": {},
   "source": [
    "#### Partitioning data X and creating labels Y"
   ]
  },
  {
   "cell_type": "code",
   "execution_count": 5,
   "metadata": {},
   "outputs": [
    {
     "name": "stdout",
     "output_type": "stream",
     "text": [
      "Total number of paths = 256\n",
      "Length of Training Set = 205\n",
      "Classes in Training Set : ['DMSO' 'estradiol'] --- Frequencies : [105 100]\n",
      "Length of Validation Set = 39\n",
      "Classes in Validation Set : ['DMSO' 'estradiol'] --- Frequencies : [16 23]\n",
      "Length of Test Set = 12\n",
      "Classes in Test Set : ['DMSO' 'estradiol'] --- Frequencies : [7 5]\n",
      "\n",
      "1st element of Training Set : estradiol\n",
      "\\\\fs9.nus.edu.sg\\bie\\MBELab\\jokhun\\Pro 1\\U2OS small mol screening\\Segmented_SmallMol\\estradiol\\24294_i02_s6_22_estradiol.tif\n",
      "1st element of Validation Set : DMSO\n",
      "\\\\fs9.nus.edu.sg\\bie\\MBELab\\jokhun\\Pro 1\\U2OS small mol screening\\Segmented_SmallMol\\DMSO\\25988_d11_s1_2_DMSO.tif\n",
      "1st element of Test Set : DMSO\n",
      "\\\\fs9.nus.edu.sg\\bie\\MBELab\\jokhun\\Pro 1\\U2OS small mol screening\\Segmented_SmallMol\\DMSO\\24307_d11_s3_11_DMSO.tif\n"
     ]
    }
   ],
   "source": [
    "# Y can be determined either from the filenames or the folders from which the images are loaded\n",
    "\n",
    "get_labels_from = 'folders' # 'Filenames' or 'Folders'\n",
    "\n",
    "Tr_Paths, Val_Paths, Ts_Paths = DataPartition(sorted(XPaths), \n",
    "                                              Partition=[0.8,0.15,0.05], RanSeed=0)\n",
    "\n",
    "if get_labels_from.lower() == 'filenames':\n",
    "    Tr_Y = [path[path.rindex('_') + 1 : path.index('.tif')] for path in Tr_Paths]\n",
    "    Val_Y = [path[path.rindex('_') + 1 : path.index('.tif')] for path in Val_Paths]\n",
    "    Ts_Y = [path[path.rindex('_') + 1 : path.index('.tif')] for path in Ts_Paths]\n",
    "\n",
    "elif get_labels_from.lower() == 'folders':\n",
    "    Tr_Y = [os.path.basename(os.path.dirname(path)) for path in Tr_Paths]\n",
    "    Val_Y = [os.path.basename(os.path.dirname(path)) for path in Val_Paths]\n",
    "    Ts_Y = [os.path.basename(os.path.dirname(path)) for path in Ts_Paths]\n",
    "    \n",
    "else: sys.exit(\"Invalid entry for 'get_labels_from'!\")\n",
    "\n",
    "print ('Total number of paths = ' + str(len(Tr_Paths)+len(Val_Paths)+len(Ts_Paths)))\n",
    "print ('Length of Training Set = ' + str(len(Tr_Paths)))\n",
    "values, counts = np.unique(Tr_Y, return_counts=True)\n",
    "print ('Classes in Training Set : ' + str(values) + ' --- Frequencies : ' + str(counts))\n",
    "print ('Length of Validation Set = ' + str(len(Val_Paths)))\n",
    "values, counts = np.unique(Val_Y, return_counts=True)\n",
    "print ('Classes in Validation Set : ' + str(values) + ' --- Frequencies : ' + str(counts))\n",
    "print ('Length of Test Set = ' + str(len(Ts_Paths)))\n",
    "values, counts = np.unique(Ts_Y, return_counts=True)\n",
    "print ('Classes in Test Set : ' + str(values) + ' --- Frequencies : ' + str(counts))\n",
    "\n",
    "print (f'\\n1st element of Training Set : {Tr_Y[0]}\\n' + str(Tr_Paths[0]))\n",
    "print (f'1st element of Validation Set : {Val_Y[0]}\\n' + str(Val_Paths[0]))\n",
    "print (f'1st element of Test Set : {Ts_Y[0]}\\n' + str(Ts_Paths[0]))\n"
   ]
  },
  {
   "cell_type": "markdown",
   "metadata": {},
   "source": [
    "#### Import images: Tr_X, Val_X and Ts_X"
   ]
  },
  {
   "cell_type": "code",
   "execution_count": 6,
   "metadata": {},
   "outputs": [
    {
     "name": "stdout",
     "output_type": "stream",
     "text": [
      "Time elapsed during import = 8.117578356 s\n",
      "Length of Training Set = 205\n",
      "Length of Validation Set = 39\n",
      "Length of Test Set = 12\n"
     ]
    },
    {
     "data": {
      "text/plain": [
       "(Text(0.5, 1.0, 'Test[0]'), <matplotlib.image.AxesImage at 0x21c6afcf748>)"
      ]
     },
     "execution_count": 6,
     "metadata": {},
     "output_type": "execute_result"
    },
    {
     "data": {
      "image/png": "[encoded data removed]",
      "text/plain": [
       "<Figure size 432x288 with 3 Axes>"
      ]
     },
     "metadata": {
      "needs_background": "light"
     },
     "output_type": "display_data"
    }
   ],
   "source": [
    "\n",
    "ImgScaleFactor = 6\n",
    "DesiredImgSize = 331\n",
    "\n",
    "start=time.perf_counter()\n",
    "with mp.Pool() as pool:\n",
    "    Tr_X = pool.starmap(Import_GrayImg, [(path,ImgScaleFactor,DesiredImgSize) for path in Tr_Paths])\n",
    "    Val_X = pool.starmap(Import_GrayImg, [(path,ImgScaleFactor,DesiredImgSize) for path in Val_Paths])\n",
    "    Ts_X = pool.starmap(Import_GrayImg, [(path,ImgScaleFactor,DesiredImgSize) for path in Ts_Paths])\n",
    "print('Time elapsed during import = '+ str(time.perf_counter() - start) + ' s')\n",
    "\n",
    "print ('Length of Training Set = '+str(len(Tr_X)))\n",
    "print ('Length of Validation Set = '+str(len(Val_X)))\n",
    "print ('Length of Test Set = '+str(len(Ts_X)))\n",
    "\n",
    "plt.subplot(1,3,1).set_title('Train[0]'), plt.imshow(Tr_X[0], cmap='gray', norm=matplotlib.colors.Normalize())\n",
    "plt.subplot(1,3,2).set_title('Val[0]'), plt.imshow(Val_X[0], cmap='gray', norm=matplotlib.colors.Normalize())\n",
    "plt.subplot(1,3,3).set_title('Test[0]'), plt.imshow(Ts_X[0], cmap='gray', norm=matplotlib.colors.Normalize())"
   ]
  },
  {
   "cell_type": "code",
   "execution_count": 7,
   "metadata": {
    "scrolled": true
   },
   "outputs": [
    {
     "name": "stdout",
     "output_type": "stream",
     "text": [
      "Total number of invalid files = 0\n",
      "Classes in Training Set : ['DMSO' 'estradiol'] --- Frequencies : [105 100]\n",
      "Classes in Validation Set : ['DMSO' 'estradiol'] --- Frequencies : [16 23]\n",
      "Classes in Test Set : ['DMSO' 'estradiol'] --- Frequencies : [7 5]\n",
      "\n",
      "Invalid Traininig files = 0\n",
      "[]\n",
      "\n",
      "Invalid Val files = 0\n",
      "[]\n",
      "\n",
      "Invalid Test files = 0\n",
      "[]\n"
     ]
    }
   ],
   "source": [
    "# Getting rid of invalid images (if th enucleus was too large to fit within 'DesiredImgSize')\n",
    "Invalid_Tr = [i for i,val in enumerate(Tr_X) if type(val)==type(None)]\n",
    "for idx in sorted(Invalid_Tr, reverse=True):\n",
    "    del Tr_X[idx]\n",
    "    del Tr_Y[idx]\n",
    "\n",
    "Invalid_Val = [i for i,val in enumerate(Val_X) if type(val)==type(None)]\n",
    "for idx in sorted(Invalid_Val, reverse=True):\n",
    "    del Val_X[idx]\n",
    "    del Val_Y[idx]\n",
    "\n",
    "Invalid_Ts = [i for i,val in enumerate(Ts_X) if type(val)==type(None)]\n",
    "for idx in sorted(Invalid_Ts, reverse=True):\n",
    "    del Ts_X[idx]\n",
    "    del Ts_Y[idx]\n",
    "\n",
    "print ('Total number of invalid files = '+str(len(Invalid_Tr)+len(Invalid_Val)+len(Invalid_Ts)))\n",
    "values, counts = np.unique(Tr_Y, return_counts=True)\n",
    "print ('Classes in Training Set : ' + str(values) + ' --- Frequencies : ' + str(counts))\n",
    "values, counts = np.unique(Val_Y, return_counts=True)\n",
    "print ('Classes in Validation Set : ' + str(values) + ' --- Frequencies : ' + str(counts))\n",
    "values, counts = np.unique(Ts_Y, return_counts=True)\n",
    "print ('Classes in Test Set : ' + str(values) + ' --- Frequencies : ' + str(counts))\n",
    "\n",
    "print('\\nInvalid Traininig files = '+str(len(Invalid_Tr))+'\\n'+str(operator.itemgetter(Invalid_Tr)(Tr_Paths)))\n",
    "print('\\nInvalid Val files = '+str(len(Invalid_Val))+'\\n'+str(operator.itemgetter(Invalid_Val)(Val_Paths)))\n",
    "print('\\nInvalid Test files = '+str(len(Invalid_Ts))+'\\n'+str(operator.itemgetter(Invalid_Ts)(Ts_Paths)))\n",
    "Tr_Paths = np.delete(Tr_Paths,Invalid_Tr)\n",
    "Val_Paths = np.delete(Val_Paths,Invalid_Val)\n",
    "Ts_Paths = np.delete(Ts_Paths,Invalid_Ts)"
   ]
  },
  {
   "cell_type": "markdown",
   "metadata": {},
   "source": [
    "#### Restructuring the image dataset and encoding the labels"
   ]
  },
  {
   "cell_type": "code",
   "execution_count": 8,
   "metadata": {
    "scrolled": true
   },
   "outputs": [
    {
     "name": "stdout",
     "output_type": "stream",
     "text": [
      "X_Train shape:(205, 331, 331, 1)   X_Val shape:(39, 331, 331, 1)   X_Test shape:(12, 331, 331, 1)\n",
      "Number of calsses in the data: 2\n",
      "Classes in the Data: ['DMSO' 'estradiol']\n",
      "1st element of Tr_Y, Val_Y and Ts_Y : estradiol, DMSO, DMSO\n",
      "1st element of Y_Train, Y_Val and Y_Test : 1, 0, 0\n"
     ]
    }
   ],
   "source": [
    "X_Train = tf.expand_dims(Tr_X, axis=-1)\n",
    "X_Val = tf.expand_dims(Val_X, axis=-1)\n",
    "X_Test = tf.expand_dims(Ts_X, axis=-1)\n",
    "print('X_Train shape:'+str(X_Train.shape) + '   X_Val shape:' + str(X_Val.shape) + '   X_Test shape:' + str(X_Test.shape))\n",
    "\n",
    "ResponseEncoder = LabelEncoder()\n",
    "ResponseEncoder.fit((Tr_Y + Val_Y + Ts_Y))\n",
    "NumOfClasses = len(ResponseEncoder.classes_)\n",
    "print('Number of calsses in the data: '+str(NumOfClasses))\n",
    "print('Classes in the Data: ' + str(ResponseEncoder.classes_))\n",
    "Y_Train = ResponseEncoder.transform(Tr_Y)\n",
    "Y_Val = ResponseEncoder.transform(Val_Y)\n",
    "Y_Test = ResponseEncoder.transform(Ts_Y)\n",
    "print ('1st element of Tr_Y, Val_Y and Ts_Y : ' + str(Tr_Y[0]) + ', ' + str(Val_Y[0]) + ', ' + str(Ts_Y[0]))\n",
    "print ('1st element of Y_Train, Y_Val and Y_Test : ' + str(Y_Train[0]) + ', ' + str(Y_Val[0]) + ', ' + str(Y_Test[0]))"
   ]
  },
  {
   "cell_type": "markdown",
   "metadata": {},
   "source": [
    "# Getting the models ready"
   ]
  },
  {
   "cell_type": "markdown",
   "metadata": {},
   "source": [
    "### Instantiating keras models "
   ]
  },
  {
   "cell_type": "code",
   "execution_count": 9,
   "metadata": {},
   "outputs": [
    {
     "name": "stdout",
     "output_type": "stream",
     "text": [
      "1  model/s created!\n"
     ]
    }
   ],
   "source": [
    "CreateModel = True\n",
    "\n",
    "models = {}\n",
    "if CreateModel:\n",
    "    models['try_Xception'] = tf.keras.applications.Xception(include_top=False, weights=\"imagenet\", input_shape=(*X_Train.shape[1:3],3), pooling='avg')\n",
    "#     models['try_InceptionResNetV2'] = tf.keras.applications.InceptionResNetV2(include_top=False, weights=\"imagenet\", input_shape=(*X_Train.shape[1:3],3), pooling='avg')\n",
    "#     models['try_NASNetLarge'] = tf.keras.applications.NASNetLarge(include_top=False, weights=\"imagenet\", input_shape=(*X_Train.shape[1:3],3), pooling='avg')\n",
    "          \n",
    "    ModelKeys=list(models.keys())\n",
    "    ModelsCreated = len(ModelKeys)\n",
    "    print (str(ModelsCreated),' model/s created!')\n",
    "else:\n",
    "    print ('No model created. Load one from disk below!')    "
   ]
  },
  {
   "cell_type": "markdown",
   "metadata": {},
   "source": [
    "### Saving model description"
   ]
  },
  {
   "cell_type": "code",
   "execution_count": 10,
   "metadata": {},
   "outputs": [],
   "source": [
    "SaveModelDescription = False\n",
    "\n",
    "if SaveModelDescription:\n",
    "    for ModelKey in ModelKeys:\n",
    "        model = models[ModelKey]\n",
    "        Model_Path = os.path.join(MasterPath,str(ModelKey))        \n",
    "        SaveModelDescript(model, save_dir=Model_Path, \n",
    "                          save_filename=str(ModelKey))        \n",
    "    print ('Model descriptions saved!')"
   ]
  },
  {
   "cell_type": "markdown",
   "metadata": {},
   "source": [
    "### Editing the model"
   ]
  },
  {
   "cell_type": "code",
   "execution_count": 11,
   "metadata": {},
   "outputs": [],
   "source": [
    "Edit_Model = False\n",
    "SaveEditedModelDescription = True\n",
    "ModelKey = ModelKeys[0]\n",
    "\n",
    "if Edit_Model:\n",
    "    model = models[ModelKey]\n",
    "    New_Layers={'drop1':tf.keras.layers.Dropout(rate=0.1, name='drop1'),\n",
    "                'drop2':tf.keras.layers.Dropout(rate=0.2, name='drop2'),\n",
    "                'drop3':tf.keras.layers.Dropout(rate=0.3, name='drop3'),\n",
    "                'drop4':tf.keras.layers.Dropout(rate=0.4, name='drop4'),\n",
    "                'drop5':tf.keras.layers.Dropout(rate=0.5, name='drop5'),\n",
    "               }\n",
    "\n",
    "    IncomingLinks_2Axe=[-18, -12, -14, -8, -5, -1]   \n",
    "\n",
    "    IncomingLinks_2Forge=[(New_Layers['drop1'], model.layers[-19]),\n",
    "                          (model.layers[-18], New_Layers['drop1']),\n",
    "                          (model.layers[-12], New_Layers['drop1']),\n",
    "                          (New_Layers['drop2'], model.layers[-15]),\n",
    "                          (model.layers[-14], New_Layers['drop2']),\n",
    "                          (New_Layers['drop3'], model.layers[-9]),\n",
    "                          (model.layers[-8], New_Layers['drop3']),\n",
    "                          (New_Layers['drop4'], model.layers[-6]),\n",
    "                          (model.layers[-5], New_Layers['drop4']),\n",
    "                          (New_Layers['drop5'], model.layers[-2]),\n",
    "                          (model.layers[-1], New_Layers['drop5']),\n",
    "                         ]\n",
    "\n",
    "    model_inputs=None\n",
    "    model_outputs=None\n",
    "\n",
    "    model = ModelEditor(model, New_Layers=New_Layers, IncomingLinks_2Axe=IncomingLinks_2Axe, \n",
    "                                IncomingLinks_2Forge=IncomingLinks_2Forge,\n",
    "                                model_inputs=model_inputs, model_outputs=model_outputs)\n",
    "    models[ModelKey] = model \n",
    "    \n",
    "    # Save edited model description\n",
    "    if SaveEditedModelDescription:\n",
    "        Model_Path = os.path.join(MasterPath,str(ModelKey))        \n",
    "        SaveModelDescript(model, save_dir=Model_Path, \n",
    "                          save_filename=str(ModelKey+'_edited'))        \n",
    "        print ('Model descriptions saved!')"
   ]
  },
  {
   "cell_type": "markdown",
   "metadata": {},
   "source": [
    "### Adding Top and Bottom layers to keras models instantiated above"
   ]
  },
  {
   "cell_type": "code",
   "execution_count": 12,
   "metadata": {},
   "outputs": [
    {
     "name": "stdout",
     "output_type": "stream",
     "text": [
      "Bottom and Top layers added!\n"
     ]
    }
   ],
   "source": [
    "AddTopAndBottomLayers = True\n",
    "\n",
    "if AddTopAndBottomLayers:\n",
    "    ModelKeys=list(models.keys())\n",
    "    for ModelKey in ModelKeys:\n",
    "        mdl = models[ModelKey]\n",
    "        im_preprocess = mdl_nCh_adjuster(NumOfInputCh=X_Train.shape[-1], NumOfOutputCh=3, ImgSize=X_Train.shape[1:3])\n",
    "        predictions = tf.keras.layers.Dense(units=NumOfClasses, activation='softmax', name=\"predictions\")\n",
    "        In = im_preprocess.inputs\n",
    "        Out = predictions(mdl(im_preprocess.outputs))\n",
    "        models[ModelKey] = tf.keras.Model(inputs=In, outputs=Out, name=ModelKey)\n",
    "    print ('Bottom and Top layers added!')    "
   ]
  },
  {
   "cell_type": "markdown",
   "metadata": {},
   "source": [
    "### Saving model description"
   ]
  },
  {
   "cell_type": "code",
   "execution_count": 13,
   "metadata": {},
   "outputs": [
    {
     "name": "stdout",
     "output_type": "stream",
     "text": [
      "Model descriptions saved!\n"
     ]
    }
   ],
   "source": [
    "SaveModelDescription = True\n",
    "\n",
    "if SaveModelDescription:\n",
    "    ModelKeys=list(models.keys())\n",
    "    for ModelKey in ModelKeys:\n",
    "        model = models[ModelKey]\n",
    "        Model_Path = os.path.join(MasterPath,str(ModelKey))        \n",
    "        SaveModelDescript(model, save_dir=Model_Path, \n",
    "                          save_filename=str(ModelKey))        \n",
    "    print ('Model descriptions saved!')"
   ]
  },
  {
   "cell_type": "markdown",
   "metadata": {},
   "source": [
    "### Compiling the models"
   ]
  },
  {
   "cell_type": "code",
   "execution_count": 14,
   "metadata": {},
   "outputs": [
    {
     "name": "stdout",
     "output_type": "stream",
     "text": [
      "Models compiled!\n"
     ]
    }
   ],
   "source": [
    "CompileModels = True\n",
    "if CompileModels:\n",
    "    ModelKeys=list(models.keys())\n",
    "    for ModelKey in ModelKeys:\n",
    "        models[ModelKey].compile(optimizer='adam', loss='sparse_categorical_crossentropy', metrics=['accuracy'])\n",
    "    print ('Models compiled!')"
   ]
  },
  {
   "cell_type": "markdown",
   "metadata": {},
   "source": [
    "### Loading models from disk"
   ]
  },
  {
   "cell_type": "code",
   "execution_count": 15,
   "metadata": {},
   "outputs": [
    {
     "name": "stdout",
     "output_type": "stream",
     "text": [
      "No model loaded from disk!\n"
     ]
    }
   ],
   "source": [
    "LoadModelFromDisk = False\n",
    "\n",
    "if LoadModelFromDisk:\n",
    "    models['mdl_name'] = tf.keras.models.load_model('mdl_path')\n",
    "    \n",
    "    ModelsLoaded = len(models.keys()) - ModelsCreated\n",
    "    print (str(ModelsLoaded),' models loaded from disk!')\n",
    "else:\n",
    "    print ('No model loaded from disk!')"
   ]
  },
  {
   "cell_type": "markdown",
   "metadata": {},
   "source": [
    "### Adding Regularization to all regularizable layers"
   ]
  },
  {
   "cell_type": "code",
   "execution_count": 16,
   "metadata": {},
   "outputs": [],
   "source": [
    "RegularizeTheModel = False\n",
    "if RegularizeTheModel:\n",
    "    regularizer = tf.keras.regularizers.l1_l2(l1=0, l2=0.001)\n",
    "    for ModelKey in ModelKeys:\n",
    "        models[ModelKey]=RegularizeModel(models[ModelKey], regularizer, keep_weights=True)\n",
    "    "
   ]
  },
  {
   "cell_type": "markdown",
   "metadata": {},
   "source": [
    "### Summary of models"
   ]
  },
  {
   "cell_type": "code",
   "execution_count": 17,
   "metadata": {},
   "outputs": [
    {
     "name": "stdout",
     "output_type": "stream",
     "text": [
      "Total number of models =  1\n",
      "Initial Train Loss and Accuracy\n",
      "try_Xception : [0.6944593560404894, 0.50731707]\n",
      "\n",
      "Initial Val Loss and Accuracy\n",
      "try_Xception : [0.7003161356999323, 0.4871795]\n",
      "\n",
      "Initial Test Loss and Accuracy\n",
      "try_Xception : [0.7179062962532043, 0.33333334]\n"
     ]
    }
   ],
   "source": [
    "ModelKeys=list(models.keys())\n",
    "\n",
    "print ('Total number of models = ',str(len(models.keys())))\n",
    "print ('Initial Train Loss and Accuracy')\n",
    "TrainEval=[]\n",
    "for ModelKey in ModelKeys:\n",
    "    Eval=models[ModelKey].evaluate(X_Train,Y_Train, verbose=0)\n",
    "    TrainEval.append(str(ModelKey)+' : '+str(Eval))\n",
    "print ('\\n'.join(TrainEval)) \n",
    "\n",
    "print ('\\nInitial Val Loss and Accuracy')\n",
    "ValEval=[]\n",
    "for ModelKey in ModelKeys:\n",
    "    Eval=models[ModelKey].evaluate(X_Val,Y_Val, verbose=0)\n",
    "    ValEval.append(str(ModelKey)+' : '+str(Eval))\n",
    "print ('\\n'.join(ValEval)) \n",
    "\n",
    "print ('\\nInitial Test Loss and Accuracy')\n",
    "TestEval=[]\n",
    "for ModelKey in ModelKeys:\n",
    "    Eval=models[ModelKey].evaluate(X_Test,Y_Test, verbose=0)\n",
    "    TestEval.append(str(ModelKey)+' : '+str(Eval))\n",
    "print ('\\n'.join(TestEval)) "
   ]
  },
  {
   "cell_type": "markdown",
   "metadata": {},
   "source": [
    "## Setting up the ImageDataGenerator"
   ]
  },
  {
   "cell_type": "code",
   "execution_count": 18,
   "metadata": {},
   "outputs": [],
   "source": [
    "UseImageDataGenerator = True\n",
    "\n",
    "def ImgGrayscale (img):\n",
    "    bw = img>0\n",
    "    img = np.subtract(img, np.amin(img))\n",
    "    img = np.divide(img, np.amax(img))\n",
    "    img = img*bw   \n",
    "    return img\n",
    "\n",
    "if UseImageDataGenerator:\n",
    "    datagen = ImageDataGenerator(\n",
    "        featurewise_center=False,\n",
    "        samplewise_center=False,\n",
    "        featurewise_std_normalization=False,\n",
    "        samplewise_std_normalization=False,\n",
    "        zca_whitening=False,\n",
    "        zca_epsilon=1e-06,\n",
    "        rotation_range=180,\n",
    "        width_shift_range=0.0,\n",
    "        height_shift_range=0.0,\n",
    "        brightness_range=None,\n",
    "        shear_range=0.0,\n",
    "        zoom_range=0.0,\n",
    "        channel_shift_range=0.0,\n",
    "        fill_mode=\"constant\",\n",
    "        cval=0,\n",
    "        horizontal_flip=True,\n",
    "        vertical_flip=True,\n",
    "        rescale=None,\n",
    "        preprocessing_function=ImgGrayscale,\n",
    "        data_format=None,\n",
    "        validation_split=0.0,\n",
    "        dtype=None,\n",
    "    )\n",
    "else:\n",
    "    datagen = ImageDataGenerator(preprocessing_function=ImgGrayscale)"
   ]
  },
  {
   "cell_type": "markdown",
   "metadata": {},
   "source": [
    "## Training config"
   ]
  },
  {
   "cell_type": "code",
   "execution_count": 19,
   "metadata": {
    "scrolled": true
   },
   "outputs": [],
   "source": [
    "def train_model (model, X_Train=None, Y_Train=None, X_Val=None, Y_Val=None, batch_size=64, initial_epoch=0, final_epoch=5, Model_Path=None, shuffle=True, DatagenShuffleSeed=None):\n",
    "    if Model_Path==None or Model_Path==[]:\n",
    "        Model_Path=model.name\n",
    "\n",
    "    MdlChkpt_Path = os.path.join(Model_Path,\"MdlChkpt\",\"e{epoch:03d}_Acc{accuracy:.2f}_ValAcc{val_accuracy:.2f}.ckpt\")\n",
    "    MdlChkpt_cb = tf.keras.callbacks.ModelCheckpoint(\n",
    "        MdlChkpt_Path, monitor='val_accuracy', verbose=0, save_best_only=True, save_weights_only=True, \n",
    "        mode='auto', save_freq=\"epoch\"\n",
    "    )\n",
    "    TensorBoard_Path = os.path.join(Model_Path,\"logs\")\n",
    "    TensorBoard_cb = tf.keras.callbacks.TensorBoard(\n",
    "        log_dir = TensorBoard_Path, histogram_freq=0, write_graph=False, write_images=False, update_freq=\"epoch\", \n",
    "        profile_batch=0, embeddings_freq=0, embeddings_metadata=None\n",
    "    )\n",
    "    \n",
    "#     try:\n",
    "#         initial_epoch = models[ModelKey]._maybe_load_initial_epoch_from_ckpt(final_epoch, 'mode')\n",
    "#     except:\n",
    "#         initial_epoch = 0 \n",
    "#     final_epoch = initial_epoch + Epochs2TrainFor\n",
    "    \n",
    "    model.fit(\n",
    "        datagen.flow(x=X_Train, y=Y_Train, batch_size=batch_size, \n",
    "                     shuffle=shuffle, sample_weight=None,seed=DatagenShuffleSeed,\n",
    "                     save_to_dir=None,save_prefix=\"\",save_format=\"png\",subset=None),\n",
    "        initial_epoch=initial_epoch, epochs=final_epoch, steps_per_epoch=len(X_Train)/batch_size, \n",
    "        verbose=1, callbacks=[MdlChkpt_cb, TensorBoard_cb], \n",
    "        validation_data=(X_Val,Y_Val), shuffle=shuffle, use_multiprocessing=False\n",
    "    )        \n",
    "    \n",
    "    return"
   ]
  },
  {
   "cell_type": "markdown",
   "metadata": {},
   "source": [
    "## Training top and bottom layers"
   ]
  },
  {
   "cell_type": "markdown",
   "metadata": {},
   "source": [
    "#### Setting the main model as non-trainable"
   ]
  },
  {
   "cell_type": "code",
   "execution_count": 20,
   "metadata": {},
   "outputs": [
    {
     "name": "stdout",
     "output_type": "stream",
     "text": [
      "xception  core has been set as non-trainable\n"
     ]
    }
   ],
   "source": [
    "TrainTopAndBottomOnly = True\n",
    "MainModel_layer = -2\n",
    "\n",
    "if TrainTopAndBottomOnly:\n",
    "    ModelKeys=list(models.keys())\n",
    "    for ModelKey in ModelKeys:\n",
    "        model=models[ModelKey]\n",
    "        model.layers[MainModel_layer].trainable = False\n",
    "        print (model.layers[MainModel_layer].name,' core has been set as non-trainable')"
   ]
  },
  {
   "cell_type": "markdown",
   "metadata": {},
   "source": [
    "#### Compiling the models"
   ]
  },
  {
   "cell_type": "code",
   "execution_count": 21,
   "metadata": {},
   "outputs": [
    {
     "name": "stdout",
     "output_type": "stream",
     "text": [
      "compile_args did not work. getattr was used instead.\n",
      "Models compiled!\n"
     ]
    }
   ],
   "source": [
    "if TrainTopAndBottomOnly:\n",
    "    ModelKeys = list(models.keys())\n",
    "    for ModelKey in ModelKeys:\n",
    "        model = models[ModelKey]\n",
    "        optimizer,loss,metrics,loss_weights,weighted_metrics,run_eagerly = get_CompileParams (model).values()\n",
    "        if optimizer!=None:\n",
    "            model.compile(optimizer = optimizer,\n",
    "                          loss = loss,\n",
    "                          metrics = metrics,\n",
    "                          loss_weights = loss_weights,\n",
    "                          weighted_metrics = weighted_metrics,\n",
    "                          run_eagerly = run_eagerly)\n",
    "        else:\n",
    "            model.compile(optimizer='adam', \n",
    "                          loss='sparse_categorical_crossentropy', \n",
    "                          metrics=['accuracy'])\n",
    "    print ('Models compiled!')"
   ]
  },
  {
   "cell_type": "markdown",
   "metadata": {},
   "source": [
    "#### Training the top and bottom layers of the models"
   ]
  },
  {
   "cell_type": "code",
   "execution_count": 23,
   "metadata": {
    "scrolled": true
   },
   "outputs": [
    {
     "name": "stdout",
     "output_type": "stream",
     "text": [
      "\n",
      "Training try_Xception...\n",
      "WARNING:tensorflow:sample_weight modes were coerced from\n",
      "  ...\n",
      "    to  \n",
      "  ['...']\n",
      "Train for 12.8125 steps, validate on 39 samples\n",
      "Epoch 1/2\n",
      "13/12 [==============================] - 32s 2s/step - loss: 0.7335 - accuracy: 0.4780 - val_loss: 0.7749 - val_accuracy: 0.4103\n",
      "Epoch 2/2\n",
      "13/12 [==============================] - 23s 2s/step - loss: 0.7158 - accuracy: 0.5073 - val_loss: 0.7488 - val_accuracy: 0.4103\n",
      "\n",
      "try_Xception trained! Training time = 0.9211605653666667 min!\n",
      "\n",
      "Total training time = 0.015352826015000001 hr!\n"
     ]
    }
   ],
   "source": [
    "if TrainTopAndBottomOnly:\n",
    "    Start=time.perf_counter()\n",
    "    ModelKeys=list(models.keys())\n",
    "    for ModelKey in ModelKeys:\n",
    "        ModelStart=time.perf_counter()\n",
    "        print('\\nTraining '+str(ModelKey)+'...')\n",
    "        Model_Path = os.path.join(MasterPath,str(ModelKey))\n",
    "        model = models[ModelKey]\n",
    "        \n",
    "        train_model (model, X_Train=X_Train, Y_Train=Y_Train, X_Val=X_Val, Y_Val=Y_Val, \n",
    "                     batch_size=16, initial_epoch=0, final_epoch=2,\n",
    "                     Model_Path=Model_Path, shuffle=True, DatagenShuffleSeed=None)\n",
    "        \n",
    "        print('\\n'+str(ModelKey)+' trained! Training time = '+ str((time.perf_counter()-ModelStart)/60) + ' min!')\n",
    "    print('\\nTotal training time = '+ str((time.perf_counter()-Start)/(60*60)) + ' hr!')        \n",
    "        "
   ]
  },
  {
   "cell_type": "markdown",
   "metadata": {},
   "source": [
    "#### Summary of Models"
   ]
  },
  {
   "cell_type": "code",
   "execution_count": 26,
   "metadata": {},
   "outputs": [
    {
     "name": "stdout",
     "output_type": "stream",
     "text": [
      "Total number of models =  1\n",
      "Train Loss and Accuracy\n",
      "try_Xception : [0.6997643366092589, 0.51707315]\n",
      "\n",
      "Val Loss and Accuracy\n",
      "try_Xception : [0.7488489838746878, 0.41025642]\n",
      "\n",
      "Test Loss and Accuracy\n",
      "try_Xception : [0.7061231136322021, 0.5833333]\n"
     ]
    }
   ],
   "source": [
    "print ('Total number of models = ',str(len(models.keys())))\n",
    "print ('Train Loss and Accuracy')\n",
    "TrainEval=[]\n",
    "ModelKeys=list(models.keys())\n",
    "for ModelKey in ModelKeys:\n",
    "    Eval=models[ModelKey].evaluate(X_Train,Y_Train, verbose=0)\n",
    "    TrainEval.append(str(ModelKey)+' : '+str(Eval))\n",
    "print ('\\n'.join(TrainEval)) \n",
    "\n",
    "print ('\\nVal Loss and Accuracy')\n",
    "ValEval=[]\n",
    "for ModelKey in ModelKeys:\n",
    "    Eval=models[ModelKey].evaluate(X_Val,Y_Val, verbose=0)\n",
    "    ValEval.append(str(ModelKey)+' : '+str(Eval))\n",
    "print ('\\n'.join(ValEval)) \n",
    "\n",
    "print ('\\nTest Loss and Accuracy')\n",
    "TestEval=[]\n",
    "for ModelKey in ModelKeys:\n",
    "    Eval=models[ModelKey].evaluate(X_Test,Y_Test, verbose=0)\n",
    "    TestEval.append(str(ModelKey)+' : '+str(Eval))\n",
    "print ('\\n'.join(TestEval)) "
   ]
  },
  {
   "cell_type": "markdown",
   "metadata": {},
   "source": [
    "## Training full models"
   ]
  },
  {
   "cell_type": "markdown",
   "metadata": {},
   "source": [
    "#### Setting the main model as trainable"
   ]
  },
  {
   "cell_type": "code",
   "execution_count": 27,
   "metadata": {},
   "outputs": [
    {
     "name": "stdout",
     "output_type": "stream",
     "text": [
      "xception  core has been set as trainable\n"
     ]
    }
   ],
   "source": [
    "TrainFullModel = True\n",
    "\n",
    "if TrainFullModel:\n",
    "    ModelKeys=list(models.keys())\n",
    "    for ModelKey in ModelKeys:\n",
    "        model=models[ModelKey]\n",
    "        model.layers[MainModel_layer].trainable = True\n",
    "        print (model.layers[MainModel_layer].name,' core has been set as trainable')"
   ]
  },
  {
   "cell_type": "markdown",
   "metadata": {},
   "source": [
    "#### Compiling the models"
   ]
  },
  {
   "cell_type": "code",
   "execution_count": 28,
   "metadata": {},
   "outputs": [
    {
     "name": "stdout",
     "output_type": "stream",
     "text": [
      "compile_args did not work. getattr was used instead.\n",
      "Models compiled!\n"
     ]
    }
   ],
   "source": [
    "if TrainFullModel:\n",
    "    ModelKeys = list(models.keys())\n",
    "    for ModelKey in ModelKeys:\n",
    "        model = models[ModelKey]\n",
    "        optimizer,loss,metrics,loss_weights,weighted_metrics,run_eagerly = get_CompileParams (model).values()\n",
    "        if optimizer!=None:\n",
    "            model.compile(optimizer = optimizer,\n",
    "                          loss = loss,\n",
    "                          metrics = metrics,\n",
    "                          loss_weights = loss_weights,\n",
    "                          weighted_metrics = weighted_metrics,\n",
    "                          run_eagerly = run_eagerly)\n",
    "        else:\n",
    "            model.compile(optimizer='adam', \n",
    "                          loss='sparse_categorical_crossentropy', \n",
    "                          metrics=['accuracy'])\n",
    "    print ('Models compiled!')"
   ]
  },
  {
   "cell_type": "markdown",
   "metadata": {},
   "source": [
    "#### Training full models"
   ]
  },
  {
   "cell_type": "code",
   "execution_count": 30,
   "metadata": {
    "scrolled": true
   },
   "outputs": [
    {
     "name": "stdout",
     "output_type": "stream",
     "text": [
      "\n",
      "Training try_Xception...\n",
      "WARNING:tensorflow:sample_weight modes were coerced from\n",
      "  ...\n",
      "    to  \n",
      "  ['...']\n",
      "Train for 12.8125 steps, validate on 39 samples\n",
      "Epoch 1/2\n",
      "13/12 [==============================] - 70s 5s/step - loss: 0.6971 - accuracy: 0.5171 - val_loss: 0.6932 - val_accuracy: 0.5128\n",
      "Epoch 2/2\n",
      "13/12 [==============================] - 40s 3s/step - loss: 0.6926 - accuracy: 0.4878 - val_loss: 0.8421 - val_accuracy: 0.4103\n",
      "\n",
      "try_Xception trained! Training time = 1.8423889276333336 min!\n",
      "\n",
      "Total training time = 0.030706534690833332 hr!\n"
     ]
    }
   ],
   "source": [
    "if TrainFullModel:\n",
    "    Start=time.perf_counter()\n",
    "    ModelKeys=list(models.keys())\n",
    "    for ModelKey in ModelKeys:\n",
    "        ModelStart=time.perf_counter()\n",
    "        print('\\nTraining '+str(ModelKey)+'...')\n",
    "        Model_Path = os.path.join(MasterPath,str(ModelKey))\n",
    "        model = models[ModelKey]\n",
    "        \n",
    "        train_model (model, X_Train=X_Train, Y_Train=Y_Train, X_Val=X_Val, Y_Val=Y_Val, \n",
    "                     batch_size=16, initial_epoch=0, final_epoch=2,\n",
    "                     Model_Path=Model_Path, shuffle=True, DatagenShuffleSeed=None)\n",
    "        \n",
    "        print('\\n'+str(ModelKey)+' trained! Training time = '+ str((time.perf_counter()-ModelStart)/60) + ' min!')\n",
    "    print('\\nTotal training time = '+ str((time.perf_counter()-Start)/(60*60)) + ' hr!')  "
   ]
  },
  {
   "cell_type": "markdown",
   "metadata": {},
   "source": [
    "#### Summary of Models"
   ]
  },
  {
   "cell_type": "code",
   "execution_count": 33,
   "metadata": {},
   "outputs": [
    {
     "name": "stdout",
     "output_type": "stream",
     "text": [
      "Total number of models =  1\n",
      "Train Loss and Accuracy\n",
      "try_Xception : [0.7569907455909543, 0.5121951]\n",
      "\n",
      "Val Loss and Accuracy\n",
      "try_Xception : [0.8421059128565666, 0.41025642]\n",
      "\n",
      "Test Loss and Accuracy\n",
      "try_Xception : [0.6986780762672424, 0.5833333]\n"
     ]
    }
   ],
   "source": [
    "print ('Total number of models = ',str(len(models.keys())))\n",
    "print ('Train Loss and Accuracy')\n",
    "TrainEval=[]\n",
    "ModelKeys=list(models.keys())\n",
    "for ModelKey in ModelKeys:\n",
    "    Eval=models[ModelKey].evaluate(X_Train,Y_Train, verbose=0)\n",
    "    TrainEval.append(str(ModelKey)+' : '+str(Eval))\n",
    "print ('\\n'.join(TrainEval)) \n",
    "\n",
    "print ('\\nVal Loss and Accuracy')\n",
    "ValEval=[]\n",
    "for ModelKey in ModelKeys:\n",
    "    Eval=models[ModelKey].evaluate(X_Val,Y_Val, verbose=0)\n",
    "    ValEval.append(str(ModelKey)+' : '+str(Eval))\n",
    "print ('\\n'.join(ValEval)) \n",
    "\n",
    "print ('\\nTest Loss and Accuracy')\n",
    "TestEval=[]\n",
    "for ModelKey in ModelKeys:\n",
    "    Eval=models[ModelKey].evaluate(X_Test,Y_Test, verbose=0)\n",
    "    TestEval.append(str(ModelKey)+' : '+str(Eval))\n",
    "print ('\\n'.join(TestEval)) "
   ]
  },
  {
   "cell_type": "markdown",
   "metadata": {},
   "source": [
    "# Saving the latest version of each model"
   ]
  },
  {
   "cell_type": "code",
   "execution_count": null,
   "metadata": {},
   "outputs": [],
   "source": [
    "SaveLatestVersions = True\n",
    "if SaveLatestVersions:\n",
    "    \n",
    "    for ModelKey in ModelKeys:\n",
    "        print('\\nSaving '+str(ModelKey))\n",
    "        Save_Path = os.path.join(MasterPath,str(ModelKey),\"LatestModel\")\n",
    "        models[ModelKey].save(\n",
    "            Save_Path, overwrite=False, include_optimizer=True, save_format=None,\n",
    "            signatures=None, options=None\n",
    "        )\n",
    "    print('\\nThe latest version of each model has been saved!')"
   ]
  },
  {
   "cell_type": "code",
   "execution_count": null,
   "metadata": {},
   "outputs": [],
   "source": []
  },
  {
   "cell_type": "code",
   "execution_count": null,
   "metadata": {},
   "outputs": [],
   "source": []
  },
  {
   "cell_type": "code",
   "execution_count": null,
   "metadata": {},
   "outputs": [],
   "source": []
  }
 ],
 "metadata": {
  "kernelspec": {
   "display_name": "Python 3",
   "language": "python",
   "name": "python3"
  },
  "language_info": {
   "codemirror_mode": {
    "name": "ipython",
    "version": 3
   },
   "file_extension": ".py",
   "mimetype": "text/x-python",
   "name": "python",
   "nbconvert_exporter": "python",
   "pygments_lexer": "ipython3",
   "version": "3.7.7"
  }
 },
 "nbformat": 4,
 "nbformat_minor": 4
}
