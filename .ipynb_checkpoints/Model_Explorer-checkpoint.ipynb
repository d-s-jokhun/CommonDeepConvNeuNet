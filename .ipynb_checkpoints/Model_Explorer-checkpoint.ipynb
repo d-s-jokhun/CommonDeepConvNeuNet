{
 "cells": [
  {
   "cell_type": "code",
   "execution_count": 1,
   "metadata": {},
   "outputs": [],
   "source": [
    "import utils\n",
    "import matplotlib\n",
    "import matplotlib.pyplot as plt\n",
    "import time\n",
    "import multiprocessing as mp\n",
    "import glob\n",
    "import numpy as np\n",
    "import tensorflow as tf\n",
    "import operator\n",
    "from sklearn.preprocessing import LabelEncoder\n",
    "import time\n",
    "import ModifiedModels\n",
    "import os\n",
    "\n",
    "# os.environ[\"CUDA_DEVICE_ORDER\"]=\"PCI_BUS_ID\"\n",
    "# os.environ[\"CUDA_VISIBLE_DEVICES\"]=\"0\""
   ]
  },
  {
   "cell_type": "code",
   "execution_count": 2,
   "metadata": {},
   "outputs": [
    {
     "name": "stdout",
     "output_type": "stream",
     "text": [
      "Total Number of ImgPaths = 5843\n",
      "\\\\fs9.nus.edu.sg\\bie\\MBELab\\jokhun\\Pro 1 - Identification of Diff Cell Types\\Adherent cells\\IndiNuc\\MAX_HME_Segmented_1974_110.1342_263.22_DAPI.tif\n"
     ]
    }
   ],
   "source": [
    "# Defining the DataSet \n",
    "\n",
    "# MasterPath = os.path.abspath(\"//kuehlapis.mbi.nus.edu.sg/home/jokhun/\")\n",
    "MasterPath = os.path.abspath('//fs9.nus.edu.sg/bie/MBELab/jokhun/Pro 1 - Identification of Diff Cell Types/Adherent cells/')\n",
    "\n",
    "ImgPaths = glob.glob(os.path.join(MasterPath,\"IndiNuc/*_DAPI.tif\"))\n",
    "print('Total Number of ImgPaths = '+str(len(ImgPaths)))\n",
    "print(ImgPaths[0])"
   ]
  },
  {
   "cell_type": "code",
   "execution_count": 3,
   "metadata": {},
   "outputs": [
    {
     "name": "stdout",
     "output_type": "stream",
     "text": [
      "Total Number of ImgPaths = 300\n",
      "\\\\fs9.nus.edu.sg\\bie\\MBELab\\jokhun\\Pro 1 - Identification of Diff Cell Types\\Adherent cells\\IndiNuc\\MAX_HME_Segmented_1974_110.1342_263.22_DAPI.tif\n"
     ]
    }
   ],
   "source": [
    "# Getting a slice of the dataset for building the pipeline\n",
    "# DELETE this section once the pipeline is built\n",
    "ImgPaths = ImgPaths[0:300]\n",
    "print('Total Number of ImgPaths = '+str(len(ImgPaths)))\n",
    "print(ImgPaths[0])"
   ]
  },
  {
   "cell_type": "code",
   "execution_count": 4,
   "metadata": {},
   "outputs": [
    {
     "name": "stdout",
     "output_type": "stream",
     "text": [
      "Length of Training Set = 240\n",
      "1st element of Training Set :\n",
      "\\\\fs9.nus.edu.sg\\bie\\MBELab\\jokhun\\Pro 1 - Identification of Diff Cell Types\\Adherent cells\\IndiNuc\\MAX_HME_Segmented_622_342.8675_664.7455_DAPI.tif\n",
      "Length of Development Set = 45\n",
      "1st element of Development Set :\n",
      "\\\\fs9.nus.edu.sg\\bie\\MBELab\\jokhun\\Pro 1 - Identification of Diff Cell Types\\Adherent cells\\IndiNuc\\MAX_HME_Segmented_2035_1691.902_132.1049_DAPI.tif\n",
      "Length of Test Set = 15\n",
      "1st element of Test Set :\n",
      "\\\\fs9.nus.edu.sg\\bie\\MBELab\\jokhun\\Pro 1 - Identification of Diff Cell Types\\Adherent cells\\IndiNuc\\MAX_BJ_Segmented_1809_1002.6385_1184.9171_DAPI.tif\n"
     ]
    }
   ],
   "source": [
    "# DataPartition\n",
    "\n",
    "Tr_Paths, Dev_Paths, Ts_Paths = utils.DataPartition(sorted(ImgPaths), Partition=[0.8,0.15,0.05], RanSeed=0)\n",
    "\n",
    "print ('Length of Training Set = ' + str(len(Tr_Paths)))\n",
    "print ('1st element of Training Set :\\n' + str(Tr_Paths[0]))\n",
    "print ('Length of Development Set = ' + str(len(Dev_Paths)))\n",
    "print ('1st element of Development Set :\\n' + str(Dev_Paths[0]))\n",
    "print ('Length of Test Set = ' + str(len(Ts_Paths)))\n",
    "print ('1st element of Test Set :\\n' + str(Ts_Paths[0]))"
   ]
  },
  {
   "cell_type": "code",
   "execution_count": 5,
   "metadata": {},
   "outputs": [
    {
     "name": "stdout",
     "output_type": "stream",
     "text": [
      "Time elapsed during import = 1.7317777080000027 s\n",
      "Length of Training Set = 240\n",
      "Length of Development Set = 45\n",
      "Length of Test Set = 15\n"
     ]
    },
    {
     "data": {
      "text/plain": [
       "(Text(0.5, 1.0, 'Test[0]'), <matplotlib.image.AxesImage at 0x2674c8708d0>)"
      ]
     },
     "execution_count": 5,
     "metadata": {},
     "output_type": "execute_result"
    },
    {
     "data": {
      "image/png": "[encoded data removed]",
      "text/plain": [
       "<Figure size 432x288 with 3 Axes>"
      ]
     },
     "metadata": {
      "needs_background": "light"
     },
     "output_type": "display_data"
    }
   ],
   "source": [
    "# Import images: Tr_X, Dev_X and Ts_X\n",
    "\n",
    "ImgScaleFactor = 2\n",
    "DesiredImgSize = 224\n",
    "\n",
    "start=time.perf_counter()\n",
    "with mp.Pool() as pool:\n",
    "    Tr_X = pool.starmap(utils.ImportImage, [(path,ImgScaleFactor,DesiredImgSize) for path in Tr_Paths])\n",
    "    Dev_X = pool.starmap(utils.ImportImage, [(path,ImgScaleFactor,DesiredImgSize) for path in Dev_Paths])\n",
    "    Ts_X = pool.starmap(utils.ImportImage, [(path,ImgScaleFactor,DesiredImgSize) for path in Ts_Paths])\n",
    "print('Time elapsed during import = '+ str(time.perf_counter() - start) + ' s')\n",
    "\n",
    "print ('Length of Training Set = '+str(len(Tr_X)))\n",
    "print ('Length of Development Set = '+str(len(Dev_X)))\n",
    "print ('Length of Test Set = '+str(len(Ts_X)))\n",
    "\n",
    "plt.subplot(1,3,1).set_title('Train[0]'), plt.imshow(Tr_X[0], cmap='gray', norm=matplotlib.colors.Normalize())\n",
    "plt.subplot(1,3,2).set_title('Dev[0]'), plt.imshow(Dev_X[0], cmap='gray', norm=matplotlib.colors.Normalize())\n",
    "plt.subplot(1,3,3).set_title('Test[0]'), plt.imshow(Ts_X[0], cmap='gray', norm=matplotlib.colors.Normalize())"
   ]
  },
  {
   "cell_type": "code",
   "execution_count": 6,
   "metadata": {},
   "outputs": [
    {
     "name": "stdout",
     "output_type": "stream",
     "text": [
      "Classes in Training Set : ['BJ' 'HME' 'HMF'] --- Frequencies : [ 88 100  52]\n",
      "Classes in Development Set : ['BJ' 'HME' 'HMF'] --- Frequencies : [14 20 11]\n",
      "Classes in Test Set : ['BJ' 'HME' 'HMF'] --- Frequencies : [6 6 3]\n"
     ]
    }
   ],
   "source": [
    "# Import Labels : Tr_Y, Dev_Y and Ts_Y\n",
    "Tr_Y = [path[path.index('MAX_') + 4 : path.index('_Segmented')] for path in Tr_Paths]\n",
    "Dev_Y = [path[path.index('MAX_') + 4 : path.index('_Segmented')] for path in Dev_Paths]\n",
    "Ts_Y = [path[path.index('MAX_') + 4 : path.index('_Segmented')] for path in Ts_Paths]\n",
    "\n",
    "values, counts = np.unique(Tr_Y, return_counts=True)\n",
    "print ('Classes in Training Set : ' + str(values) + ' --- Frequencies : ' + str(counts))\n",
    "values, counts = np.unique(Dev_Y, return_counts=True)\n",
    "print ('Classes in Development Set : ' + str(values) + ' --- Frequencies : ' + str(counts))\n",
    "values, counts = np.unique(Ts_Y, return_counts=True)\n",
    "print ('Classes in Test Set : ' + str(values) + ' --- Frequencies : ' + str(counts))"
   ]
  },
  {
   "cell_type": "code",
   "execution_count": 7,
   "metadata": {},
   "outputs": [
    {
     "name": "stdout",
     "output_type": "stream",
     "text": [
      "Invalid Traininig files = 3\n",
      "['\\\\\\\\fs9.nus.edu.sg\\\\bie\\\\MBELab\\\\jokhun\\\\Pro 1 - Identification of Diff Cell Types\\\\Adherent cells\\\\IndiNuc\\\\MAX_HME_Segmented_231_1272.2646_932.8158_DAPI.tif'\n",
      " '\\\\\\\\fs9.nus.edu.sg\\\\bie\\\\MBELab\\\\jokhun\\\\Pro 1 - Identification of Diff Cell Types\\\\Adherent cells\\\\IndiNuc\\\\MAX_BJ_Segmented_1327_444.7837_109.4972_DAPI.tif'\n",
      " '\\\\\\\\fs9.nus.edu.sg\\\\bie\\\\MBELab\\\\jokhun\\\\Pro 1 - Identification of Diff Cell Types\\\\Adherent cells\\\\IndiNuc\\\\MAX_HME_Segmented_1270_637.0807_64.2024_DAPI.tif']\n",
      "Invalid Dev files = 0\n",
      "[]\n",
      "Invalid Test files = 0\n",
      "[]\n",
      "\n",
      "Total number of invalid files = 3\n",
      "Classes in Training Set : ['BJ' 'HME' 'HMF'] --- Frequencies : [87 98 52]\n",
      "Classes in Development Set : ['BJ' 'HME' 'HMF'] --- Frequencies : [14 20 11]\n",
      "Classes in Test Set : ['BJ' 'HME' 'HMF'] --- Frequencies : [6 6 3]\n"
     ]
    }
   ],
   "source": [
    "# Getting rid of invalid images\n",
    "counter = 0\n",
    "\n",
    "Invalid = [i for i,val in enumerate(Tr_X) if type(val)==type(None)]\n",
    "counter += len(Invalid)\n",
    "print('Invalid Traininig files = '+str(len(Invalid))+'\\n'+str(operator.itemgetter(Invalid)(Tr_Paths)))\n",
    "Tr_Paths = np.delete(Tr_Paths,Invalid)\n",
    "for idx in sorted(Invalid, reverse=True):\n",
    "    del Tr_X[idx]\n",
    "    del Tr_Y[idx]\n",
    "\n",
    "Invalid = [i for i,val in enumerate(Dev_X) if type(val)==type(None)]\n",
    "counter += len(Invalid)\n",
    "print('Invalid Dev files = '+str(len(Invalid))+'\\n'+str(operator.itemgetter(Invalid)(Dev_Paths)))\n",
    "Dev_Paths = np.delete(Dev_Paths,Invalid)\n",
    "for idx in sorted(Invalid, reverse=True):\n",
    "    del Dev_X[idx]\n",
    "    del Dev_Y[idx]\n",
    "\n",
    "Invalid = [i for i,val in enumerate(Ts_X) if type(val)==type(None)]\n",
    "counter += len(Invalid)\n",
    "print('Invalid Test files = '+str(len(Invalid))+'\\n'+str(operator.itemgetter(Invalid)(Ts_Paths)))\n",
    "Ts_Paths = np.delete(Ts_Paths,Invalid)\n",
    "for idx in sorted(Invalid, reverse=True):\n",
    "    del Ts_X[idx]\n",
    "    del Ts_Y[idx]\n",
    "\n",
    "print ('\\nTotal number of invalid files = '+str(counter))\n",
    "values, counts = np.unique(Tr_Y, return_counts=True)\n",
    "print ('Classes in Training Set : ' + str(values) + ' --- Frequencies : ' + str(counts))\n",
    "values, counts = np.unique(Dev_Y, return_counts=True)\n",
    "print ('Classes in Development Set : ' + str(values) + ' --- Frequencies : ' + str(counts))\n",
    "values, counts = np.unique(Ts_Y, return_counts=True)\n",
    "print ('Classes in Test Set : ' + str(values) + ' --- Frequencies : ' + str(counts))"
   ]
  },
  {
   "cell_type": "code",
   "execution_count": 8,
   "metadata": {},
   "outputs": [
    {
     "name": "stdout",
     "output_type": "stream",
     "text": [
      "X_Train shape:(237, 224, 224, 1)   X_Dev shape:(45, 224, 224, 1)   X_Test shape:(15, 224, 224, 1)\n",
      "Number of calsses in the data: 3\n",
      "Classes in the Data: ['BJ' 'HME' 'HMF']\n",
      "1st element of Tr_Y, Dev_Y and Ts_Y : HME, HME, BJ\n",
      "1st element of Y_Train, Y_Dev and Y_Test : 1, 1, 0\n"
     ]
    }
   ],
   "source": [
    "# Restructuring the image dataset and encoding the labels\n",
    "X_Train = tf.expand_dims(Tr_X, axis=-1)\n",
    "X_Dev = tf.expand_dims(Dev_X, axis=-1)\n",
    "X_Test = tf.expand_dims(Ts_X, axis=-1)\n",
    "print('X_Train shape:'+str(X_Train.shape) + '   X_Dev shape:' + str(X_Dev.shape) + '   X_Test shape:' + str(X_Test.shape))\n",
    "\n",
    "ResponseEncoder = LabelEncoder()\n",
    "ResponseEncoder.fit((Tr_Y + Dev_Y + Ts_Y))\n",
    "NumOfClasses = len(ResponseEncoder.classes_)\n",
    "print('Number of calsses in the data: '+str(NumOfClasses))\n",
    "print('Classes in the Data: ' + str(ResponseEncoder.classes_))\n",
    "Y_Train = ResponseEncoder.transform(Tr_Y)\n",
    "Y_Dev = ResponseEncoder.transform(Dev_Y)\n",
    "Y_Test = ResponseEncoder.transform(Ts_Y)\n",
    "print ('1st element of Tr_Y, Dev_Y and Ts_Y : ' + str(Tr_Y[0]) + ', ' + str(Dev_Y[0]) + ', ' + str(Ts_Y[0]))\n",
    "print ('1st element of Y_Train, Y_Dev and Y_Test : ' + str(Y_Train[0]) + ', ' + str(Y_Dev[0]) + ', ' + str(Y_Test[0]))"
   ]
  },
  {
   "cell_type": "code",
   "execution_count": 9,
   "metadata": {},
   "outputs": [
    {
     "name": "stdout",
     "output_type": "stream",
     "text": [
      "Initial Test Loss and Accuracy\n",
      "mod_NASNetLarge : [1.2697465419769287, 0.2]\n"
     ]
    }
   ],
   "source": [
    "# Importing the untrained models\n",
    "\n",
    "models = {\n",
    "#     'mod_VGG16' : ModifiedModels.mod_VGG16(NumOfClasses=NumOfClasses, NumOfInputCh=X_Train.shape[-1], ImgSize=X_Train.shape[1]), \n",
    "#     'mod_VGG19' : ModifiedModels.mod_VGG19(NumOfClasses=NumOfClasses, NumOfInputCh=X_Train.shape[-1], ImgSize=X_Train.shape[1]),\n",
    "#     'mod_ResNet50' : ModifiedModels.mod_ResNet50(NumOfClasses=NumOfClasses, NumOfInputCh=X_Train.shape[-1], ImgSize=X_Train.shape[1]),\n",
    "#     'mod_ResNet50V2' : ModifiedModels.mod_ResNet50V2(NumOfClasses=NumOfClasses, NumOfInputCh=X_Train.shape[-1], ImgSize=X_Train.shape[1]),\n",
    "#     'mod_InceptionV3' : ModifiedModels.mod_InceptionV3(NumOfClasses=NumOfClasses, NumOfInputCh=X_Train.shape[-1], ImgSize=X_Train.shape[1]),\n",
    "#     'mod_Xception' : ModifiedModels.mod_Xception(NumOfClasses=NumOfClasses, NumOfInputCh=X_Train.shape[-1], ImgSize=X_Train.shape[1]),\n",
    "#     'mod_InceptionResNetV2' : ModifiedModels.mod_InceptionResNetV2(NumOfClasses=NumOfClasses, NumOfInputCh=X_Train.shape[-1], ImgSize=X_Train.shape[1]),\n",
    "    'mod_NASNetLarge' : ModifiedModels.mod_NASNetLarge(NumOfClasses=NumOfClasses, NumOfInputCh=X_Train.shape[-1], ImgSize=X_Train.shape[1]),\n",
    "}\n",
    "\n",
    "ModelKeys=list(models.keys())\n",
    "\n",
    "print('Initial Test Loss and Accuracy')\n",
    "InitialEval=[]\n",
    "for ModelKey in ModelKeys:\n",
    "    eval=models[ModelKey].evaluate(X_Test,Y_Test, verbose=0)\n",
    "    InitialEval.append(str(ModelKey)+' : '+str(eval))\n",
    "print ('\\n'.join(InitialEval)) "
   ]
  },
  {
   "cell_type": "code",
   "execution_count": 10,
   "metadata": {},
   "outputs": [
    {
     "name": "stdout",
     "output_type": "stream",
     "text": [
      "\n",
      "Training mod_NASNetLarge...\n",
      "Train on 237 samples, validate on 45 samples\n",
      "Epoch 1/2\n",
      "237/237 [==============================] - 177s 748ms/sample - loss: 2.0508 - accuracy: 0.4304 - val_loss: 8626.2420 - val_accuracy: 0.4444\n",
      "Epoch 2/2\n",
      "237/237 [==============================] - 55s 231ms/sample - loss: 1.3839 - accuracy: 0.4895 - val_loss: 7075.6314 - val_accuracy: 0.4444\n",
      "WARNING:tensorflow:From C:\\Users\\biejds\\.conda\\envs\\ML\\lib\\site-packages\\tensorflow_core\\python\\ops\\resource_variable_ops.py:1781: calling BaseResourceVariable.__init__ (from tensorflow.python.ops.resource_variable_ops) with constraint is deprecated and will be removed in a future version.\n",
      "Instructions for updating:\n",
      "If using Keras pass *_constraint arguments to layers.\n",
      "INFO:tensorflow:Assets written to: \\\\fs9.nus.edu.sg\\bie\\MBELab\\jokhun\\Pro 1 - Identification of Diff Cell Types\\Adherent cells\\mod_NASNetLarge\\LatestModel\\assets\n",
      "\n",
      "mod_NASNetLarge trained! Training time = 10.160118249300002 min!\n",
      "Test Loss and Accuracy [Initial] [Final]\n",
      "mod_NASNetLarge : [1.2697465419769287, 0.2] [7681.88232421875, 0.4]\n",
      "\n",
      "Total training time = 0.16944240633138885 hr!\n"
     ]
    }
   ],
   "source": [
    "# Training the models, saving modelcheckpoints and logs\n",
    "\n",
    "Start=time.perf_counter()\n",
    "for ModelKey in ModelKeys:\n",
    "    ModelStart=time.perf_counter()\n",
    "    print('\\nTraining '+str(ModelKey)+'...')\n",
    "        \n",
    "    Model_Path = os.path.join(MasterPath,str(ModelKey))\n",
    "    \n",
    "    MdlChkpt_Path = os.path.join(Model_Path,\"MdlChkpt\",\"MdlChkpt{epoch:02d}-{val_accuracy:.2f}.ckpt\")\n",
    "    MdlChkpt_cb = tf.keras.callbacks.ModelCheckpoint(\n",
    "        MdlChkpt_Path, monitor='val_accuracy', verbose=0, save_best_only=True, save_weights_only=True, \n",
    "        mode='auto', save_freq=\"epoch\"\n",
    "    )\n",
    "    TensorBoard_Path = os.path.join(Model_Path,\"logs\")\n",
    "    TensorBoard_cb = tf.keras.callbacks.TensorBoard(\n",
    "        log_dir = TensorBoard_Path, histogram_freq=0, write_graph=False, write_images=False, update_freq=\"epoch\", \n",
    "        profile_batch=0, embeddings_freq=0, embeddings_metadata=None\n",
    "    )\n",
    "        \n",
    "    models[ModelKey].fit(\n",
    "        x=X_Train, y=Y_Train, batch_size=8, epochs=2, initial_epoch=0, verbose=1, callbacks=[MdlChkpt_cb, TensorBoard_cb],\n",
    "        validation_data=(X_Dev,Y_Dev), shuffle=True\n",
    "    )\n",
    "    \n",
    "    print('\\n'+str(ModelKey)+' trained! Training time = '+ str((time.perf_counter()-ModelStart)/60) + ' min!')\n",
    "    print('Test Loss and Accuracy [Initial] [Final]')\n",
    "    for i,ModelKey in enumerate(ModelKeys):\n",
    "        eval=models[ModelKey].evaluate(X_Test,Y_Test, verbose=0)\n",
    "        print(InitialEval[i]+' '+str(eval))\n",
    "print('\\nTotal training time = '+ str((time.perf_counter()-Start)/(60*60)) + ' hr!')"
   ]
  },
  {
   "cell_type": "code",
   "execution_count": 11,
   "metadata": {},
   "outputs": [
    {
     "name": "stdout",
     "output_type": "stream",
     "text": [
      "\n",
      "Saving mod_NASNetLarge\n"
     ]
    },
    {
     "name": "stdin",
     "output_type": "stream",
     "text": [
      "[WARNING] \\\\fs9.nus.edu.sg\\bie\\MBELab\\jokhun\\Pro 1 - Identification of Diff Cell Types\\Adherent cells\\mod_NASNetLarge\\LatestModel already exists - overwrite? [y/n] y\n"
     ]
    },
    {
     "name": "stdout",
     "output_type": "stream",
     "text": [
      "[TIP] Next time specify overwrite=True!\n",
      "INFO:tensorflow:Assets written to: \\\\fs9.nus.edu.sg\\bie\\MBELab\\jokhun\\Pro 1 - Identification of Diff Cell Types\\Adherent cells\\mod_NASNetLarge\\LatestModel\\assets\n",
      "The latest version of each model has been saved!\n"
     ]
    }
   ],
   "source": [
    "# Saving the latest version of each model\n",
    "for ModelKey in ModelKeys:\n",
    "    print('\\nSaving '+str(ModelKey))\n",
    "    Save_Path = os.path.join(MasterPath,str(ModelKey),\"LatestModel\")\n",
    "    models[ModelKey].save(\n",
    "        Save_Path, overwrite=False, include_optimizer=True, save_format=None,\n",
    "        signatures=None, options=None\n",
    "    )\n",
    "print('\\nThe latest version of each model has been saved!')"
   ]
  },
  {
   "cell_type": "code",
   "execution_count": null,
   "metadata": {},
   "outputs": [],
   "source": []
  },
  {
   "cell_type": "code",
   "execution_count": null,
   "metadata": {},
   "outputs": [],
   "source": []
  },
  {
   "cell_type": "code",
   "execution_count": null,
   "metadata": {},
   "outputs": [],
   "source": []
  }
 ],
 "metadata": {
  "kernelspec": {
   "display_name": "Python 3",
   "language": "python",
   "name": "python3"
  },
  "language_info": {
   "codemirror_mode": {
    "name": "ipython",
    "version": 3
   },
   "file_extension": ".py",
   "mimetype": "text/x-python",
   "name": "python",
   "nbconvert_exporter": "python",
   "pygments_lexer": "ipython3",
   "version": "3.7.1"
  }
 },
 "nbformat": 4,
 "nbformat_minor": 4
}
