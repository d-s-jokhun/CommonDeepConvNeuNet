{
 "cells": [
  {
   "cell_type": "code",
   "execution_count": 1,
   "metadata": {},
   "outputs": [],
   "source": [
    "from DataPartition import DataPartition\n",
    "from im_import import Import_GrayImg\n",
    "import matplotlib\n",
    "import matplotlib.pyplot as plt\n",
    "import time\n",
    "import multiprocessing as mp\n",
    "import glob\n",
    "import numpy as np\n",
    "import tensorflow as tf\n",
    "from tensorflow.keras.preprocessing.image import ImageDataGenerator\n",
    "import operator\n",
    "from sklearn.preprocessing import LabelEncoder\n",
    "import time\n",
    "import ModifiedModels\n",
    "import os\n",
    "import sys\n",
    "\n",
    "# os.environ[\"CUDA_DEVICE_ORDER\"]=\"PCI_BUS_ID\"\n",
    "# os.environ[\"CUDA_VISIBLE_DEVICES\"]=\"0\""
   ]
  },
  {
   "cell_type": "markdown",
   "metadata": {},
   "source": [
    "# Input Data"
   ]
  },
  {
   "cell_type": "markdown",
   "metadata": {},
   "source": [
    "#### Defining the input X and Y data"
   ]
  },
  {
   "cell_type": "code",
   "execution_count": 2,
   "metadata": {},
   "outputs": [
    {
     "name": "stdout",
     "output_type": "stream",
     "text": [
      "Classes available :\n",
      " ['estradiol', 'caffeine', 'paracetamol', 'DMSO', 'chlorphenamine']\n"
     ]
    }
   ],
   "source": [
    "# MasterPath = os.path.abspath(\"/gpfs0/home/jokhun/\")\n",
    "# Segmented_MasterFolder = 'Segmented_SmallMol'\n",
    "\n",
    "MasterPath = os.path.abspath('//fs9.nus.edu.sg/bie/MBELab/jokhun/Pro 1/U2OS small mol screening')\n",
    "Segmented_MasterFolder = 'Segmented'\n",
    "\n",
    "Classes = [Class for Class in os.listdir(os.path.join(MasterPath,Segmented_MasterFolder)) \n",
    "           if os.path.isdir(os.path.join(MasterPath,Segmented_MasterFolder,Class))]\n",
    "print('Classes available :\\n',Classes)"
   ]
  },
  {
   "cell_type": "markdown",
   "metadata": {},
   "source": [
    "#### Use the following cell to select specific classes rather than all of them"
   ]
  },
  {
   "cell_type": "code",
   "execution_count": 3,
   "metadata": {},
   "outputs": [
    {
     "name": "stdout",
     "output_type": "stream",
     "text": [
      "Classes selected :\n",
      " ['estradiol', 'caffeine']\n",
      "No. of Images available =  5086\n",
      "estradiol  :  1982\n",
      "caffeine  :  3104\n"
     ]
    }
   ],
   "source": [
    "Select_Classes = True # Set to False in order to select all available classes\n",
    "selection = [0,2,3,4] # List of classes to be selected. Only used if Select_Classes is True\n",
    "\n",
    "if Select_Classes:\n",
    "    Selected_Classes = list(operator.itemgetter(*selection)(Classes))\n",
    "else:\n",
    "    Selected_Classes = Classes\n",
    "\n",
    "ClassPaths={}\n",
    "for Class in Selected_Classes:\n",
    "    ClassPaths[Class]=glob.glob(os.path.join(\n",
    "        MasterPath,Segmented_MasterFolder,Class,f\"*_{Class}.tif\"\n",
    "    ))\n",
    "\n",
    "print('Classes selected :\\n',Selected_Classes)\n",
    "print('No. of Images available = ', np.sum([len(ClassPaths[Class]) for Class in ClassPaths]))\n",
    "for Class in ClassPaths: print (Class,' : ',len(ClassPaths[Class]) )"
   ]
  },
  {
   "cell_type": "code",
   "execution_count": 4,
   "metadata": {},
   "outputs": [
    {
     "name": "stdout",
     "output_type": "stream",
     "text": [
      "No. of Paths selected =  3964\n",
      "estradiol  :  1982\n",
      "caffeine  :  1982\n"
     ]
    }
   ],
   "source": [
    "# Using the smallest dataset to determine the number of images to import from each class\n",
    "MinDatasetSizes=np.amin([len(items[1]) for items in ClassPaths.items()])\n",
    "np.random.seed(0)\n",
    "\n",
    "for Class in ClassPaths.keys():\n",
    "    ClassPaths[Class]=np.random.choice(ClassPaths[Class], \n",
    "                                       size = MinDatasetSizes, replace = False)\n",
    "XPaths = []\n",
    "for Class in ClassPaths.keys():\n",
    "    XPaths.extend(ClassPaths[Class])\n",
    "\n",
    "print('No. of Paths selected = ', len(XPaths))\n",
    "for Class in ClassPaths: print (Class,' : ',len(ClassPaths[Class]))"
   ]
  },
  {
   "cell_type": "markdown",
   "metadata": {},
   "source": [
    "#### Partitioning data X and creating labels Y"
   ]
  },
  {
   "cell_type": "code",
   "execution_count": 5,
   "metadata": {},
   "outputs": [
    {
     "name": "stdout",
     "output_type": "stream",
     "text": [
      "Total number of paths = 3766\n",
      "Length of Training Set = 3172\n",
      "Classes in Training Set : ['caffeine' 'estradiol'] --- Frequencies : [1575 1597]\n",
      "Length of Validation Set = 396\n",
      "Classes in Validation Set : ['caffeine' 'estradiol'] --- Frequencies : [212 184]\n",
      "Length of Test Set = 198\n",
      "Classes in Test Set : ['caffeine' 'estradiol'] --- Frequencies : [106  92]\n",
      "\n",
      "1st element of Training Set : caffeine\n",
      "\\\\fs9.nus.edu.sg\\bie\\MBELab\\jokhun\\Pro 1\\U2OS small mol screening\\Segmented\\caffeine\\24352_c09_s4_65_caffeine.tif\n",
      "1st element of Validation Set : estradiol\n",
      "\\\\fs9.nus.edu.sg\\bie\\MBELab\\jokhun\\Pro 1\\U2OS small mol screening\\Segmented\\estradiol\\25937_i02_s6_59_estradiol.tif\n",
      "1st element of Test Set : caffeine\n",
      "\\\\fs9.nus.edu.sg\\bie\\MBELab\\jokhun\\Pro 1\\U2OS small mol screening\\Segmented\\caffeine\\24306_c09_s4_7_caffeine.tif\n"
     ]
    }
   ],
   "source": [
    "# Y can be determined either from the filenames or the folders from which the images are loaded\n",
    "\n",
    "get_labels_from = 'folders' # 'Filenames' or 'Folders'\n",
    "\n",
    "Tr_Paths, Val_Paths, Ts_Paths = DataPartition(sorted(XPaths), Partition=[0.8,0.10,0.05], RanSeed=0)\n",
    "\n",
    "if get_labels_from.lower() == 'filenames':\n",
    "    Tr_Y = [path[path.rindex('_') + 1 : path.index('.tif')] for path in Tr_Paths]\n",
    "    Val_Y = [path[path.rindex('_') + 1 : path.index('.tif')] for path in Val_Paths]\n",
    "    Ts_Y = [path[path.rindex('_') + 1 : path.index('.tif')] for path in Ts_Paths]\n",
    "\n",
    "elif get_labels_from.lower() == 'folders':\n",
    "    Tr_Y = [os.path.basename(os.path.dirname(path)) for path in Tr_Paths]\n",
    "    Val_Y = [os.path.basename(os.path.dirname(path)) for path in Val_Paths]\n",
    "    Ts_Y = [os.path.basename(os.path.dirname(path)) for path in Ts_Paths]\n",
    "    \n",
    "else: sys.exit(\"Invalid entry for 'get_labels_from'!\")\n",
    "\n",
    "print ('Total number of paths = ' + str(len(Tr_Paths)+len(Val_Paths)+len(Ts_Paths)))\n",
    "print ('Length of Training Set = ' + str(len(Tr_Paths)))\n",
    "values, counts = np.unique(Tr_Y, return_counts=True)\n",
    "print ('Classes in Training Set : ' + str(values) + ' --- Frequencies : ' + str(counts))\n",
    "print ('Length of Validation Set = ' + str(len(Val_Paths)))\n",
    "values, counts = np.unique(Val_Y, return_counts=True)\n",
    "print ('Classes in Validation Set : ' + str(values) + ' --- Frequencies : ' + str(counts))\n",
    "print ('Length of Test Set = ' + str(len(Ts_Paths)))\n",
    "values, counts = np.unique(Ts_Y, return_counts=True)\n",
    "print ('Classes in Test Set : ' + str(values) + ' --- Frequencies : ' + str(counts))\n",
    "\n",
    "print (f'\\n1st element of Training Set : {Tr_Y[0]}\\n' + str(Tr_Paths[0]))\n",
    "print (f'1st element of Validation Set : {Val_Y[0]}\\n' + str(Val_Paths[0]))\n",
    "print (f'1st element of Test Set : {Ts_Y[0]}\\n' + str(Ts_Paths[0]))\n"
   ]
  },
  {
   "cell_type": "markdown",
   "metadata": {},
   "source": [
    "#### Import images: Tr_X, Val_X and Ts_X"
   ]
  },
  {
   "cell_type": "code",
   "execution_count": 6,
   "metadata": {},
   "outputs": [
    {
     "name": "stdout",
     "output_type": "stream",
     "text": [
      "Time elapsed during import = 14.362702700000003 s\n",
      "Length of Training Set = 3172\n",
      "Length of Validation Set = 396\n",
      "Length of Test Set = 198\n"
     ]
    },
    {
     "data": {
      "text/plain": [
       "(Text(0.5, 1.0, 'Test[0]'), <matplotlib.image.AxesImage at 0x1cd6af3b7b8>)"
      ]
     },
     "execution_count": 6,
     "metadata": {},
     "output_type": "execute_result"
    },
    {
     "data": {
      "image/png": "[encoded data removed]",
      "text/plain": [
       "<Figure size 432x288 with 3 Axes>"
      ]
     },
     "metadata": {
      "needs_background": "light"
     },
     "output_type": "display_data"
    }
   ],
   "source": [
    "\n",
    "ImgScaleFactor = 4\n",
    "DesiredImgSize = 224\n",
    "\n",
    "start=time.perf_counter()\n",
    "with mp.Pool() as pool:\n",
    "    Tr_X = pool.starmap(Import_GrayImg, [(path,ImgScaleFactor,DesiredImgSize) for path in Tr_Paths])\n",
    "    Val_X = pool.starmap(Import_GrayImg, [(path,ImgScaleFactor,DesiredImgSize) for path in Val_Paths])\n",
    "    Ts_X = pool.starmap(Import_GrayImg, [(path,ImgScaleFactor,DesiredImgSize) for path in Ts_Paths])\n",
    "print('Time elapsed during import = '+ str(time.perf_counter() - start) + ' s')\n",
    "\n",
    "print ('Length of Training Set = '+str(len(Tr_X)))\n",
    "print ('Length of Validation Set = '+str(len(Val_X)))\n",
    "print ('Length of Test Set = '+str(len(Ts_X)))\n",
    "\n",
    "plt.subplot(1,3,1).set_title('Train[0]'), plt.imshow(Tr_X[0], cmap='gray', norm=matplotlib.colors.Normalize())\n",
    "plt.subplot(1,3,2).set_title('Val[0]'), plt.imshow(Val_X[0], cmap='gray', norm=matplotlib.colors.Normalize())\n",
    "plt.subplot(1,3,3).set_title('Test[0]'), plt.imshow(Ts_X[0], cmap='gray', norm=matplotlib.colors.Normalize())"
   ]
  },
  {
   "cell_type": "code",
   "execution_count": 8,
   "metadata": {
    "scrolled": true
   },
   "outputs": [
    {
     "name": "stdout",
     "output_type": "stream",
     "text": [
      "Total number of invalid files = 8\n",
      "Classes in Training Set : ['caffeine' 'estradiol'] --- Frequencies : [1572 1594]\n",
      "Classes in Validation Set : ['caffeine' 'estradiol'] --- Frequencies : [212 182]\n",
      "Classes in Test Set : ['caffeine' 'estradiol'] --- Frequencies : [106  92]\n",
      "\n",
      "Invalid Traininig files = 6\n",
      "['\\\\\\\\fs9.nus.edu.sg\\\\bie\\\\MBELab\\\\jokhun\\\\Pro 1\\\\U2OS small mol screening\\\\Segmented\\\\caffeine\\\\24306_c09_s6_27_caffeine.tif'\n",
      " '\\\\\\\\fs9.nus.edu.sg\\\\bie\\\\MBELab\\\\jokhun\\\\Pro 1\\\\U2OS small mol screening\\\\Segmented\\\\estradiol\\\\25939_i02_s4_3_estradiol.tif'\n",
      " '\\\\\\\\fs9.nus.edu.sg\\\\bie\\\\MBELab\\\\jokhun\\\\Pro 1\\\\U2OS small mol screening\\\\Segmented\\\\estradiol\\\\24297_i02_s4_5_estradiol.tif'\n",
      " '\\\\\\\\fs9.nus.edu.sg\\\\bie\\\\MBELab\\\\jokhun\\\\Pro 1\\\\U2OS small mol screening\\\\Segmented\\\\caffeine\\\\25955_c09_s4_6_caffeine.tif'\n",
      " '\\\\\\\\fs9.nus.edu.sg\\\\bie\\\\MBELab\\\\jokhun\\\\Pro 1\\\\U2OS small mol screening\\\\Segmented\\\\caffeine\\\\25966_c09_s1_2_caffeine.tif'\n",
      " '\\\\\\\\fs9.nus.edu.sg\\\\bie\\\\MBELab\\\\jokhun\\\\Pro 1\\\\U2OS small mol screening\\\\Segmented\\\\estradiol\\\\24297_i02_s2_7_estradiol.tif']\n",
      "\n",
      "Invalid Val files = 2\n",
      "['\\\\\\\\fs9.nus.edu.sg\\\\bie\\\\MBELab\\\\jokhun\\\\Pro 1\\\\U2OS small mol screening\\\\Segmented\\\\estradiol\\\\24297_i02_s4_3_estradiol.tif'\n",
      " '\\\\\\\\fs9.nus.edu.sg\\\\bie\\\\MBELab\\\\jokhun\\\\Pro 1\\\\U2OS small mol screening\\\\Segmented\\\\estradiol\\\\24295_i02_s1_2_estradiol.tif']\n",
      "\n",
      "Invalid Test files = 0\n",
      "[]\n"
     ]
    }
   ],
   "source": [
    "# Getting rid of invalid images (if th enucleus was too large to fit within 'DesiredImgSize')\n",
    "Invalid_Tr = [i for i,val in enumerate(Tr_X) if type(val)==type(None)]\n",
    "for idx in sorted(Invalid_Tr, reverse=True):\n",
    "    del Tr_X[idx]\n",
    "    del Tr_Y[idx]\n",
    "\n",
    "Invalid_Val = [i for i,val in enumerate(Val_X) if type(val)==type(None)]\n",
    "for idx in sorted(Invalid_Val, reverse=True):\n",
    "    del Val_X[idx]\n",
    "    del Val_Y[idx]\n",
    "\n",
    "Invalid_Ts = [i for i,val in enumerate(Ts_X) if type(val)==type(None)]\n",
    "for idx in sorted(Invalid_Ts, reverse=True):\n",
    "    del Ts_X[idx]\n",
    "    del Ts_Y[idx]\n",
    "\n",
    "print ('Total number of invalid files = '+str(len(Invalid_Tr)+len(Invalid_Val)+len(Invalid_Ts)))\n",
    "values, counts = np.unique(Tr_Y, return_counts=True)\n",
    "print ('Classes in Training Set : ' + str(values) + ' --- Frequencies : ' + str(counts))\n",
    "values, counts = np.unique(Val_Y, return_counts=True)\n",
    "print ('Classes in Validation Set : ' + str(values) + ' --- Frequencies : ' + str(counts))\n",
    "values, counts = np.unique(Ts_Y, return_counts=True)\n",
    "print ('Classes in Test Set : ' + str(values) + ' --- Frequencies : ' + str(counts))\n",
    "\n",
    "print('\\nInvalid Traininig files = '+str(len(Invalid_Tr))+'\\n'+str(operator.itemgetter(Invalid_Tr)(Tr_Paths)))\n",
    "print('\\nInvalid Val files = '+str(len(Invalid_Val))+'\\n'+str(operator.itemgetter(Invalid_Val)(Val_Paths)))\n",
    "print('\\nInvalid Test files = '+str(len(Invalid_Ts))+'\\n'+str(operator.itemgetter(Invalid_Ts)(Ts_Paths)))\n",
    "Tr_Paths = np.delete(Tr_Paths,Invalid_Tr)\n",
    "Val_Paths = np.delete(Val_Paths,Invalid_Val)\n",
    "Ts_Paths = np.delete(Ts_Paths,Invalid_Ts)"
   ]
  },
  {
   "cell_type": "markdown",
   "metadata": {},
   "source": [
    "#### Restructuring the image dataset and encoding the labels"
   ]
  },
  {
   "cell_type": "code",
   "execution_count": 9,
   "metadata": {
    "scrolled": true
   },
   "outputs": [
    {
     "name": "stdout",
     "output_type": "stream",
     "text": [
      "X_Train shape:(3166, 224, 224, 1)   X_Val shape:(394, 224, 224, 1)   X_Test shape:(198, 224, 224, 1)\n",
      "Number of calsses in the data: 2\n",
      "Classes in the Data: ['caffeine' 'estradiol']\n",
      "1st element of Tr_Y, Val_Y and Ts_Y : caffeine, estradiol, caffeine\n",
      "1st element of Y_Train, Y_Val and Y_Test : 0, 1, 0\n"
     ]
    }
   ],
   "source": [
    "X_Train = tf.expand_dims(Tr_X, axis=-1)\n",
    "X_Val = tf.expand_dims(Val_X, axis=-1)\n",
    "X_Test = tf.expand_dims(Ts_X, axis=-1)\n",
    "print('X_Train shape:'+str(X_Train.shape) + '   X_Val shape:' + str(X_Val.shape) + '   X_Test shape:' + str(X_Test.shape))\n",
    "\n",
    "ResponseEncoder = LabelEncoder()\n",
    "ResponseEncoder.fit((Tr_Y + Val_Y + Ts_Y))\n",
    "NumOfClasses = len(ResponseEncoder.classes_)\n",
    "print('Number of calsses in the data: '+str(NumOfClasses))\n",
    "print('Classes in the Data: ' + str(ResponseEncoder.classes_))\n",
    "Y_Train = ResponseEncoder.transform(Tr_Y)\n",
    "Y_Val = ResponseEncoder.transform(Val_Y)\n",
    "Y_Test = ResponseEncoder.transform(Ts_Y)\n",
    "print ('1st element of Tr_Y, Val_Y and Ts_Y : ' + str(Tr_Y[0]) + ', ' + str(Val_Y[0]) + ', ' + str(Ts_Y[0]))\n",
    "print ('1st element of Y_Train, Y_Val and Y_Test : ' + str(Y_Train[0]) + ', ' + str(Y_Val[0]) + ', ' + str(Y_Test[0]))"
   ]
  },
  {
   "cell_type": "markdown",
   "metadata": {},
   "source": [
    "# Importing the untrained models"
   ]
  },
  {
   "cell_type": "code",
   "execution_count": 10,
   "metadata": {},
   "outputs": [
    {
     "name": "stdout",
     "output_type": "stream",
     "text": [
      "Initial Test Loss and Accuracy\n",
      "mod_Xception : [0.6931472420692444, 0.46464646]\n"
     ]
    }
   ],
   "source": [
    "models = {\n",
    "#     'mod_VGG16' : ModifiedModels.mod_VGG16(NumOfClasses=NumOfClasses, NumOfInputCh=X_Train.shape[-1], ImgSize=X_Train.shape[1]), \n",
    "#     'mod_VGG19' : ModifiedModels.mod_VGG19(NumOfClasses=NumOfClasses, NumOfInputCh=X_Train.shape[-1], ImgSize=X_Train.shape[1]),\n",
    "#     'mod_ResNet50' : ModifiedModels.mod_ResNet50(NumOfClasses=NumOfClasses, NumOfInputCh=X_Train.shape[-1], ImgSize=X_Train.shape[1]),\n",
    "#     'mod_ResNet50V2' : ModifiedModels.mod_ResNet50V2(NumOfClasses=NumOfClasses, NumOfInputCh=X_Train.shape[-1], ImgSize=X_Train.shape[1]),\n",
    "#     'mod_InceptionV3' : ModifiedModels.mod_InceptionV3(NumOfClasses=NumOfClasses, NumOfInputCh=X_Train.shape[-1], ImgSize=X_Train.shape[1]),\n",
    "    'mod_Xception' : ModifiedModels.mod_Xception(NumOfClasses=NumOfClasses, NumOfInputCh=X_Train.shape[-1], ImgSize=X_Train.shape[1]),\n",
    "#     'mod_InceptionResNetV2' : ModifiedModels.mod_InceptionResNetV2(NumOfClasses=NumOfClasses, NumOfInputCh=X_Train.shape[-1], ImgSize=X_Train.shape[1]),\n",
    "#     'mod_NASNetLarge' : ModifiedModels.mod_NASNetLarge(NumOfClasses=NumOfClasses, NumOfInputCh=X_Train.shape[-1], ImgSize=X_Train.shape[1]),\n",
    "}\n",
    "\n",
    "ModelKeys=list(models.keys())\n",
    "\n",
    "print('Initial Test Loss and Accuracy')\n",
    "InitialEval=[]\n",
    "for ModelKey in ModelKeys:\n",
    "    eval=models[ModelKey].evaluate(X_Test,Y_Test, verbose=0)\n",
    "    InitialEval.append(str(ModelKey)+' : '+str(eval))\n",
    "print ('\\n'.join(InitialEval)) "
   ]
  },
  {
   "cell_type": "markdown",
   "metadata": {},
   "source": [
    "## Setting up the ImageDataGenerator"
   ]
  },
  {
   "cell_type": "code",
   "execution_count": 12,
   "metadata": {},
   "outputs": [],
   "source": [
    "def ImgNorm (img):\n",
    "    bw = img>0\n",
    "    img = np.subtract(img, np.amin(img))\n",
    "    img = np.divide(img, np.amax(img))\n",
    "    img = img*bw   \n",
    "    return img\n",
    "\n",
    "datagen = ImageDataGenerator(\n",
    "    featurewise_center=False,\n",
    "    samplewise_center=False,\n",
    "    featurewise_std_normalization=False,\n",
    "    samplewise_std_normalization=False,\n",
    "    zca_whitening=False,\n",
    "    zca_epsilon=1e-06,\n",
    "    rotation_range=180,\n",
    "    width_shift_range=0.0,\n",
    "    height_shift_range=0.0,\n",
    "    brightness_range=None,\n",
    "    shear_range=0.0,\n",
    "    zoom_range=0.0,\n",
    "    channel_shift_range=0.0,\n",
    "    fill_mode=\"constant\",\n",
    "    cval=0,\n",
    "    horizontal_flip=True,\n",
    "    vertical_flip=True,\n",
    "    rescale=None,\n",
    "    preprocessing_function=ImgNorm,\n",
    "    data_format=None,\n",
    "    validation_split=0.0,\n",
    "    dtype=None,\n",
    ")"
   ]
  },
  {
   "cell_type": "markdown",
   "metadata": {},
   "source": [
    "#### Training the models, saving modelcheckpoints and logs"
   ]
  },
  {
   "cell_type": "code",
   "execution_count": 13,
   "metadata": {
    "scrolled": true
   },
   "outputs": [
    {
     "name": "stdout",
     "output_type": "stream",
     "text": [
      "\n",
      "Training mod_Xception...\n",
      "Train for 49.46875 steps, validate on 394 samples\n",
      "Epoch 1/2\n",
      "50/49 [==============================] - 114s 2s/step - loss: 0.7361 - accuracy: 0.5041 - val_loss: 0.6935 - val_accuracy: 0.4619\n",
      "Epoch 2/2\n",
      "50/49 [==============================] - 246s 5s/step - loss: 0.7137 - accuracy: 0.5044 - val_loss: 0.6933 - val_accuracy: 0.4619\n",
      "\n",
      "mod_Xception trained! Training time = 6.270900382799997 min!\n",
      "Test Loss and Accuracy [Initial] [Final]\n",
      "mod_Xception : [0.6931472420692444, 0.46464646] [0.6933174470458368, 0.46464646]\n",
      "\n",
      "Total training time = 0.10545973120416666 hr!\n"
     ]
    }
   ],
   "source": [
    "batch_size=64; initial_epoch=0; final_epoch=2;\n",
    "\n",
    "Start=time.perf_counter()\n",
    "for ModelKey in ModelKeys:\n",
    "    ModelStart=time.perf_counter()\n",
    "    print('\\nTraining '+str(ModelKey)+'...')\n",
    "        \n",
    "    Model_Path = os.path.join(MasterPath,str(ModelKey))\n",
    "    \n",
    "    MdlChkpt_Path = os.path.join(Model_Path,\"MdlChkpt\",\"MdlChkpt{epoch:02d}-{val_accuracy:.2f}.ckpt\")\n",
    "    MdlChkpt_cb = tf.keras.callbacks.ModelCheckpoint(\n",
    "        MdlChkpt_Path, monitor='val_accuracy', verbose=0, save_best_only=True, save_weights_only=True, \n",
    "        mode='auto', save_freq=\"epoch\"\n",
    "    )\n",
    "    TensorBoard_Path = os.path.join(Model_Path,\"logs\")\n",
    "    TensorBoard_cb = tf.keras.callbacks.TensorBoard(\n",
    "        log_dir = TensorBoard_Path, histogram_freq=0, write_graph=False, write_images=False, update_freq=\"epoch\", \n",
    "        profile_batch=0, embeddings_freq=0, embeddings_metadata=None\n",
    "    )\n",
    "        \n",
    "    models[ModelKey].fit(\n",
    "        datagen.flow(x=X_Train, y=Y_Train, batch_size=batch_size), \n",
    "        initial_epoch=initial_epoch, epochs=final_epoch, steps_per_epoch=len(X_Train)/batch_size, \n",
    "        verbose=1, callbacks=[MdlChkpt_cb, TensorBoard_cb], \n",
    "        validation_data=(X_Val,Y_Val), shuffle=True, use_multiprocessing=True\n",
    "    )\n",
    "        \n",
    "        \n",
    "    print('\\n'+str(ModelKey)+' trained! Training time = '+ str((time.perf_counter()-ModelStart)/60) + ' min!')\n",
    "    print('Test Loss and Accuracy [Initial] [Final]')\n",
    "    for i,ModelKey in enumerate(ModelKeys):\n",
    "        eval=models[ModelKey].evaluate(X_Test,Y_Test, verbose=0)\n",
    "        print(InitialEval[i]+' '+str(eval))\n",
    "print('\\nTotal training time = '+ str((time.perf_counter()-Start)/(60*60)) + ' hr!')"
   ]
  },
  {
   "cell_type": "markdown",
   "metadata": {},
   "source": [
    "#### Saving the latest version of each model"
   ]
  },
  {
   "cell_type": "code",
   "execution_count": 11,
   "metadata": {},
   "outputs": [
    {
     "name": "stdout",
     "output_type": "stream",
     "text": [
      "\n",
      "Saving mod_NASNetLarge\n"
     ]
    },
    {
     "name": "stdin",
     "output_type": "stream",
     "text": [
      "[WARNING] \\\\fs9.nus.edu.sg\\bie\\MBELab\\jokhun\\Pro 1 - Identification of Diff Cell Types\\Adherent cells\\mod_NASNetLarge\\LatestModel already exists - overwrite? [y/n] y\n"
     ]
    },
    {
     "name": "stdout",
     "output_type": "stream",
     "text": [
      "[TIP] Next time specify overwrite=True!\n",
      "INFO:tensorflow:Assets written to: \\\\fs9.nus.edu.sg\\bie\\MBELab\\jokhun\\Pro 1 - Identification of Diff Cell Types\\Adherent cells\\mod_NASNetLarge\\LatestModel\\assets\n",
      "The latest version of each model has been saved!\n"
     ]
    }
   ],
   "source": [
    "for ModelKey in ModelKeys:\n",
    "    print('\\nSaving '+str(ModelKey))\n",
    "    Save_Path = os.path.join(MasterPath,str(ModelKey),\"LatestModel\")\n",
    "    models[ModelKey].save(\n",
    "        Save_Path, overwrite=False, include_optimizer=True, save_format=None,\n",
    "        signatures=None, options=None\n",
    "    )\n",
    "print('\\nThe latest version of each model has been saved!')"
   ]
  },
  {
   "cell_type": "code",
   "execution_count": null,
   "metadata": {},
   "outputs": [],
   "source": []
  },
  {
   "cell_type": "code",
   "execution_count": null,
   "metadata": {},
   "outputs": [],
   "source": []
  },
  {
   "cell_type": "code",
   "execution_count": null,
   "metadata": {},
   "outputs": [],
   "source": []
  }
 ],
 "metadata": {
  "kernelspec": {
   "display_name": "Python 3",
   "language": "python",
   "name": "python3"
  },
  "language_info": {
   "codemirror_mode": {
    "name": "ipython",
    "version": 3
   },
   "file_extension": ".py",
   "mimetype": "text/x-python",
   "name": "python",
   "nbconvert_exporter": "python",
   "pygments_lexer": "ipython3",
   "version": "3.7.1"
  }
 },
 "nbformat": 4,
 "nbformat_minor": 4
}
